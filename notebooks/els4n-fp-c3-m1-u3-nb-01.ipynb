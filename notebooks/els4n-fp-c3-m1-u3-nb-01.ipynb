{
 "cells": [
  {
   "cell_type": "markdown",
   "metadata": {},
   "source": [
    "# Uso y aplicación de la recursión estructural\n",
    "\n",
    "En este *notebook* tendrás la oportunidad de utilizar la recursión estructural a través del tipo de dato algebraico que describe los *naturales* `Nat`, como lo puedes ver a continuación:"
   ]
  },
  {
   "cell_type": "code",
   "execution_count": null,
   "metadata": {},
   "outputs": [],
   "source": [
    "import scala.annotation.tailrec\n",
    "\n",
    "sealed trait Nat\n",
    "\n",
    "final case object Cero extends Nat\n",
    "final case class  Suc(n:Nat) extends Nat\n",
    "\n",
    "val cero   = Cero\n",
    "val uno    = Suc(Cero)\n",
    "val dos    = Suc(Suc(Cero))\n",
    "val tres   = Suc(Suc(Suc(Cero)))\n",
    "val cuatro = Suc(Suc(Suc(Suc(Cero))))\n",
    "val cinco  = Suc(Suc(Suc(Suc(Suc(Cero)))))\n",
    "val seis   = Suc(cinco)"
   ]
  },
  {
   "cell_type": "markdown",
   "metadata": {},
   "source": [
    "## Ejercicio 1. Los naturales son pares.\n",
    "\n",
    ">> Implemente una función `esPar`que recibe un valor del tipo de dato algebraico `Nat`, de forma que indique si este es par o no lo es.\n",
    "\n",
    "**Pistas.** \n",
    "\n",
    "1. Recuerde que `0` es un valor entero y el `1` es impar. Por lo tanto existen dos casos bases y un caso recursivo. \n",
    "2. Recuerde que si un número $n$ es un número par, si a esta valor se le resta 2 el número es par. ¿Cómo hacer la resta recuerde que un número par puede terner una forma similar a: `Suc(Suc(...))`."
   ]
  },
  {
   "cell_type": "code",
   "execution_count": null,
   "metadata": {
    "solution2": "shown",
    "solution2_first": true
   },
   "outputs": [],
   "source": [
    "def esPar(n:Nat):Boolean = ???"
   ]
  },
  {
   "cell_type": "code",
   "execution_count": null,
   "metadata": {
    "solution2": "shown"
   },
   "outputs": [],
   "source": [
    "def esPar(n:Nat):Boolean = n match {\n",
    "    case Cero => true\n",
    "    case Suc(Cero) => false\n",
    "    case Suc(Suc(n)) => esPar(n)\n",
    "}\n",
    "\n",
    "esPar(cero) == true\n",
    "esPar(uno) == false\n",
    "esPar(dos) == true\n",
    "esPar(tres) == false\n",
    "\n",
    "cero == Cero\n",
    "cero != Suc(Cero)"
   ]
  },
  {
   "cell_type": "markdown",
   "metadata": {},
   "source": [
    "## Ejercicio 2. conversión de `Int` a `Nat` con recursividad de cola\n",
    "\n",
    "La siguiente es la implementación de la función `fromIntToNat` que se te han mostrado anteriormente.\n",
    "\n",
    "```scala\n",
    "def fromIntToNat(i:Int):Nat = i match {\n",
    "    case 0 => Cero\n",
    "    case n => Suc(fromIntToNat(n-1))\n",
    "}\n",
    "```\n",
    "\n",
    "Como puedes observar esta implementación no tiene recursividad de cola. \n",
    "\n",
    ">> Implementa la función `fromIntToNatTR` que haga uso de la recursividad de cola\n",
    "\n",
    "**Pistas.**\n",
    "\n",
    "1. Se requiere de una función auxiliar, que generalmente tiene un parámetro que funciona como *acumulador*.\n",
    "2. Este *acumulador* es especial por que se va encargar de acumular funciones, es decir que es una función que sigue este tipo: `Nat => Nat`.\n",
    "3. El problema es el valor inicial del acumulador, por que es obvio que en el caso recursivo realice la composición con `andThen`, a partir de una función que recibe un `x` de tipo natural y lo combina con `Suc`.\n",
    "4. Ese valor inicial es la conocida función de idéntidad. `id`: `(x:Nat) => x`.\n",
    "5. Recuerda darle al compilador de las pistas de los tipos esperados en la variables: `val f:(Nat=>Nat) = ???`."
   ]
  },
  {
   "cell_type": "code",
   "execution_count": null,
   "metadata": {
    "solution2": "hidden",
    "solution2_first": true
   },
   "outputs": [],
   "source": [
    "def fromIntToNatTR(i:Int):Nat = ???\n",
    "\n",
    "fromIntToNatTR(0) == cero\n",
    "fromIntToNatTR(1) == uno\n",
    "fromIntToNatTR(2) == dos\n",
    "fromIntToNatTR(3) == tres"
   ]
  },
  {
   "cell_type": "code",
   "execution_count": null,
   "metadata": {
    "solution2": "hidden"
   },
   "outputs": [],
   "source": [
    "def fromIntToNatTR(i:Int):Nat = {\n",
    "    @tailrec\n",
    "    def aux(v:Int, f:Nat => Nat):Nat = v match {\n",
    "        case 0 => f(Cero)\n",
    "        case n => {\n",
    "            val c:(Nat => Nat) = (x:Nat) => Suc(x)\n",
    "            aux(n - 1, c andThen f)\n",
    "        }\n",
    "    }\n",
    "    aux(i, (id:Nat) => id)\n",
    "}\n",
    "\n",
    "fromIntToNatTR(0) == cero\n",
    "fromIntToNatTR(1) == uno\n",
    "fromIntToNatTR(2) == dos\n",
    "fromIntToNatTR(3) == tres"
   ]
  },
  {
   "cell_type": "markdown",
   "metadata": {},
   "source": [
    "## Ejercicio 3. Comparación de valores `Nat`\n",
    "\n",
    "Los valores de los tipos de datos algebraicos los puedes comparar a través de los operadores de igualdad (`==`) y diferencia (`!=`). Esto se debe a que el compilador se encarga *sobrecargarlos*. Pero, las comparaciones como: $<$, $\\leq$, $>$, $\\geq$, no son proporcionadas por el compilador. En este ejercicio, implementarás la siguiente comparación.\n",
    "\n",
    ">> Implementen la comparación `menorQue` de forma que permita comparar dos valores de tipo `Nat`.\n",
    "\n",
    "**Nota** No olvidar construir la solución aplicando la recursividad de cola."
   ]
  },
  {
   "cell_type": "code",
   "execution_count": null,
   "metadata": {
    "solution2": "hidden",
    "solution2_first": true
   },
   "outputs": [],
   "source": [
    "def menorQue(n:Nat, m:Nat):Boolean = ???\n",
    "\n",
    "menorQue(cero,cero)\n",
    "menorQue(cero,uno)\n",
    "menorQue(uno,tres)\n",
    "menorQue(tres,uno)"
   ]
  },
  {
   "cell_type": "code",
   "execution_count": null,
   "metadata": {
    "solution2": "hidden"
   },
   "outputs": [],
   "source": [
    "@tailrec\n",
    "def menorQue(n:Nat, m:Nat):Boolean = (n,m) match {\n",
    "    case (Cero,Cero) => false\n",
    "    case (Cero,_)    => true\n",
    "    case (Suc(np),Cero) => false\n",
    "    case (Suc(np),Suc(mp)) => menorQue(np,mp)\n",
    "}\n",
    "\n",
    "menorQue(cero,cero)\n",
    "menorQue(cero,uno)\n",
    "menorQue(uno,tres)\n",
    "menorQue(tres,uno)"
   ]
  },
  {
   "cell_type": "markdown",
   "metadata": {},
   "source": [
    "## Ejercicio 4. Multiplicaciones de valores `Nat`\n",
    "\n",
    "La operación de la `suma` es fundamental para muchas operaciones aritméticas: $-$, $\\times$, $/$. Ya que a través de ella podemos construir las demás.\n",
    "\n",
    "**Nota** La implementación se muestra sin recursividad de cola, por facilidad en la lectura del código y para no influir en la solución de este ejercicio."
   ]
  },
  {
   "cell_type": "code",
   "execution_count": null,
   "metadata": {},
   "outputs": [],
   "source": [
    "def suma(n:Nat,m:Nat):Nat = n match {\n",
    "  case Cero    => m\n",
    "  case Suc(ap) => Suc(suma(ap,m))\n",
    "}"
   ]
  },
  {
   "cell_type": "markdown",
   "metadata": {},
   "source": [
    "Si multiplicamos a $n$ por $m$ donde ambos $n,m\\ \\in\\ Nat$, dicha multiplicación se hacer sumando a $m$, $n$ veces:\n",
    "\n",
    "$$\n",
    "\\underbrace{m + m + \\cdots + m}_{n\\ \\text{veces}}\n",
    "$$\n",
    "\n",
    "Entonces,\n",
    "\n",
    ">> Implemente la función `mult` que suma dos valores de tipo `Nat` a través de $n$ sumas continuas\n",
    "\n",
    "**Nota** Implementa utlizando los principios de recursividad de cola"
   ]
  },
  {
   "cell_type": "code",
   "execution_count": null,
   "metadata": {
    "solution2": "hidden",
    "solution2_first": true
   },
   "outputs": [],
   "source": [
    "def mult(n:Nat,m:Nat):Nat = ???"
   ]
  },
  {
   "cell_type": "code",
   "execution_count": null,
   "metadata": {
    "solution2": "hidden"
   },
   "outputs": [],
   "source": [
    "def mult(n:Nat,m:Nat):Nat = {\n",
    "    @tailrec\n",
    "    def aux(a:Nat,b:Nat,ac:Nat):Nat = a match {\n",
    "        case Cero    => ac\n",
    "        case Suc(ap) => aux(ap,b,suma(ac,b))\n",
    "    }\n",
    "    aux(n,m,Cero)\n",
    "}\n",
    "\n",
    "mult(uno,cero) == cero\n",
    "mult(cero,dos) == cero\n",
    "mult(uno,dos) == dos\n",
    "mult(dos,dos) == cuatro\n",
    "mult(dos,tres) == seis"
   ]
  }
 ],
 "metadata": {
  "kernelspec": {
   "display_name": "Scala",
   "language": "scala",
   "name": "scala"
  },
  "language_info": {
   "codemirror_mode": "text/x-scala",
   "file_extension": ".sc",
   "mimetype": "text/x-scala",
   "name": "scala",
   "nbconvert_exporter": "script",
   "version": "2.13.3"
  }
 },
 "nbformat": 4,
 "nbformat_minor": 4
}
