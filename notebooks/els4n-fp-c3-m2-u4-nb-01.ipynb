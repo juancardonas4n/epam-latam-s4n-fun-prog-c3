{
 "cells": [
  {
   "cell_type": "markdown",
   "metadata": {},
   "source": [
    "# Tipos de datos alegraicos y objetos de compañía\n",
    "\n",
    "Hemos observado la extrecha relación entre los tipos de datos algebraicos y los objetos de compañía. En este **Notebook** vamos a enfocarnos principalmente en que asimiles más esta relación porque dicha relación nos permitirá construir una *mejor* programación funcional dentro del lenguaje de programación Scala.\n",
    "\n",
    "Hablaremos de los usos de objetos y de los objetos de compañía, nos enfocaremos en estos elementos dejando de lado la interacción con `class` que es un tema que pertenece más a la programación orientada a objetos.\n",
    "\n",
    "## Objetos únicos (*Singleton Objects*)\n",
    "\n",
    "El constructor `object` se encarga de crear una instancia del objeto nombrado y esta es creada por una única vez. Un objeto puede ser creada con la mínima definición:\n",
    "\n",
    "```scala\n",
    "object Objeto\n",
    "```\n",
    "\n",
    "Este ya se encuentra disponible en el momento que se solicite y estará creado por una única vez, como se muestra a continuación:\n",
    "\n",
    "```scala\n",
    "val o = Objeto\n",
    "```\n",
    "\n",
    "Dado que Scala es un lenguaje diseñado para que su parte objetual fuera más completa que su contra parte en Java, Scala es un mejor lenguaje orientado a objetos, puesto que todo son objetos y todos son creados como instancias de los objetos como ocurren con los objetos únicos. \n",
    "\n",
    "Pero también, los objetos pueden contener métodos y valores como sucede con una clase, pero no pueden tener parámetros en el constructor del objeto.\n",
    "\n",
    "Scala omite evita el uso de forma directa de la [memoria estática](https://goutamjava.blogspot.com/2013/04/difference-between-static-memory-and.html) como sucede en lenguajes como Java con el uso directo del modificador `static`. Scala cada objeto está ubicado en la memoria dinámica (*heap*) y las instancias de `object` también lo estarán.\n",
    "\n",
    "El siguiente código muestra la construcción de un objeto que puede servir como un módulo para contener métodos y valores."
   ]
  },
  {
   "cell_type": "code",
   "execution_count": null,
   "metadata": {},
   "outputs": [],
   "source": [
    "object ModuloGlobal {\n",
    "    val nIter = 4;\n",
    "    def mostrarVeces(n:Int, msg:String):Unit = n match {\n",
    "        case 0 => ()\n",
    "        case n => {\n",
    "            println(msg)\n",
    "            mostrarVeces(n-1,msg)\n",
    "        }\n",
    "    }\n",
    "}"
   ]
  },
  {
   "cell_type": "markdown",
   "metadata": {},
   "source": [
    "El anterior código funciona como un módulo que puede ser importado a nuestros programas en cualquier momento."
   ]
  },
  {
   "cell_type": "code",
   "execution_count": null,
   "metadata": {},
   "outputs": [],
   "source": [
    "ModuloGlobal.mostrarVeces(ModuloGlobal.nIter, \"Hola Mundo\")\n",
    "import ModuloGlobal._\n",
    "mostrarVeces(nIter,\"Adios mundo\")"
   ]
  },
  {
   "cell_type": "markdown",
   "metadata": {},
   "source": [
    "### Ejercicio 1. Definir un objeto único\n",
    "\n",
    "Suponga que en un projecto se require tener una serie de servicios comunes para todos los objetos que el programa tendrá, este servicio será llamado `Servicios` y los servicios serán:\n",
    "* `imprimir` una cadena de carácteres,\n",
    "* `dividir` una cadena de carácteres de entrada, por un caracter específico, si ec\n",
    "\n",
    ">> Implemente el objeto único (*Singleton Object*) `Servicios`"
   ]
  },
  {
   "cell_type": "code",
   "execution_count": null,
   "metadata": {
    "solution2": "hidden",
    "solution2_first": true
   },
   "outputs": [],
   "source": [
    "// Su código va aquí\n",
    "\n",
    "//\n",
    "val s:(String,String) = Servicios.dividir(\"Hola mundo\",' ')\n",
    "Servicios.imprimir(s._1)\n",
    "Servicios.imprimir(s._2)\n",
    "val s2:(String,String) = Servicios.dividir(\"Hola mundo\",'*')\n",
    "Servicios.imprimir(s2._1)\n",
    "Servicios.imprimir(s2._2)"
   ]
  },
  {
   "cell_type": "code",
   "execution_count": null,
   "metadata": {
    "solution2": "hidden"
   },
   "outputs": [],
   "source": [
    "object Servicios {\n",
    "    def dividir(str:String,c:Char):(String,String) = {\n",
    "        val i = str.indexOf(c)\n",
    "        if (i == -1) (str,\"\") else (str.substring(0,i),str.substring(i+1))\n",
    "    }\n",
    "    def imprimir(str:String):Unit = println(str)\n",
    "}\n",
    "val s:(String,String) = Servicios.dividir(\"Hola mundo\",' ')\n",
    "Servicios.imprimir(s._1)\n",
    "Servicios.imprimir(s._2)\n",
    "val s2:(String,String) = Servicios.dividir(\"Hola mundo\",'*')\n",
    "Servicios.imprimir(s2._1)\n",
    "Servicios.imprimir(s2._2)"
   ]
  },
  {
   "cell_type": "markdown",
   "metadata": {},
   "source": [
    "## Objetos puntos de entrada\n",
    "\n",
    "Otro uso particular de los objetos únicos es que sirven como puntos de entrada dentro de nuestros programas, es decir, como el inicio de un programa. Dado que un inicio de programa es único y también los objetos únicos lo son, por lo tanto uno de sus métodos puede servir como punto de inicio, en este caso será el método `main` que indicará donde dará inicio del programa. El siguiente es el formato de un objeto de inicio con un ehem"
   ]
  },
  {
   "cell_type": "code",
   "execution_count": null,
   "metadata": {},
   "outputs": [],
   "source": [
    "object Inicio {\n",
    "    def main(args:Array[String]):Unit = println(\"Este es el inicio del programa\")\n",
    "}"
   ]
  },
  {
   "cell_type": "markdown",
   "metadata": {},
   "source": [
    "En el objeto llamado `Inicio` claramente se observa la firma de la función de inicio `main(args:Array[String]):Unit`. En dicha firma, observas un arreglo de cadenas de carácteres que indica la forma de comunicarse con el mundo exterior para pasar una serie de comandos. Este tipo de programas se invocan desde las terminales o los ficheros de configuración donde se indican la línea de comandos a lanzar. \n",
    "\n",
    "Por ejemplo si queremos ejecutar el anterior programa, lo compilamos primero y luego lo ejecutamos así, suponiendo que lo guardamos en un fichero llamado `Inicio.scala`\n",
    "\n",
    "```shell\n",
    "$ scalac Inicio.scala\n",
    "$ scala Inicio\n",
    "Este es el inicio del programa\n",
    "```\n",
    "\n",
    "Como esto no se puede hacer directamente debido que estamos trabajando dentro de un núcleo (*Kernel*) de Scala dentro un *Notebook* de *Jupyter*, para ejecutarlo lo hacemos así dentro de este *Notebook*:"
   ]
  },
  {
   "cell_type": "code",
   "execution_count": null,
   "metadata": {},
   "outputs": [],
   "source": [
    "Inicio.main(Array())"
   ]
  },
  {
   "cell_type": "markdown",
   "metadata": {},
   "source": [
    "Ahora te preguntas como procesar los argumentos que se le pasan a un programa hecho en Scala. Existen muchas formas, vamos a mostrar la más sencilla de todas y es utilizar un constructor muy poderoso dentro de Scala que es el constructor `for`. Miremos en el siguiente segmento de código como procesarlo."
   ]
  },
  {
   "cell_type": "code",
   "execution_count": null,
   "metadata": {},
   "outputs": [],
   "source": [
    "object Inicio2 {\n",
    "    def main(args:Array[String]):Unit = {\n",
    "        for (s <- args) {\n",
    "            println(s)\n",
    "        }\n",
    "    }\n",
    "}"
   ]
  },
  {
   "cell_type": "markdown",
   "metadata": {},
   "source": [
    "Para pasar un conjunto de argumentos se haría dentro de una terminal así:\n",
    "\n",
    "```shell\n",
    "$ scala Inicio2 arg1 arg2 tres \"un argumento muy largo\"\n",
    "arg1\n",
    "arg2\n",
    "tres\n",
    "un argumento muy largo\n",
    "```\n",
    "\n",
    "Ahora como lo hago desde el *Notebook* se haría así:"
   ]
  },
  {
   "cell_type": "code",
   "execution_count": null,
   "metadata": {},
   "outputs": [],
   "source": [
    "Inicio2.main(Array(\"arg1\",\"arg2\",\"tres\", \"un argumento muy largo\"))"
   ]
  },
  {
   "cell_type": "markdown",
   "metadata": {},
   "source": [
    "Una de las característica que hace muy útil a Scala es el uso extensivo de `trait`s. Estos permiten modelar múltiples comportamientos que una clase o objeto podrías implementar sin tener que caer en las complicaciones de herencia múltiple, o hacer uso de múltiples interfaces que no tiene comportamiento preestablecido. En este caso, vamos a utilizar el `trait` `App` que permite definir que un objeto se comportará cómo una aplicación (más exactamente como una aplicación *standalone*)."
   ]
  },
  {
   "cell_type": "code",
   "execution_count": null,
   "metadata": {},
   "outputs": [],
   "source": [
    "object Inicio3 extends App {\n",
    "    println(\"Hola mundo\")\n",
    "}"
   ]
  },
  {
   "cell_type": "markdown",
   "metadata": {},
   "source": [
    "En este caso se observa que no se requiere de un método llamado `main`, sino que todo el cuerpo del objeto es el bloque de ejecución de la aplicación, facilitando que los programados se enfoque en escribir directamente el código del inicio de la aplicación."
   ]
  },
  {
   "cell_type": "code",
   "execution_count": null,
   "metadata": {},
   "outputs": [],
   "source": [
    "Inicio3.main(Array())"
   ]
  },
  {
   "cell_type": "markdown",
   "metadata": {},
   "source": [
    "Entonces, ¿qué pasa con los argumentos con este nueva forma de crear apliaciones? Miremos el siguiente ejercicio.\n",
    "\n",
    "### Ejercicio 2. Procesar argumentos\n",
    "\n",
    "Lo que hace el `trait` `App` es que ya tiene definida los argumentos como variables y puede ser accedido directamente por su nombre.\n",
    "\n",
    ">> Reescriba el objeto `Inicio3` con `Inicio4` de forma que pueda procesar un conjunto de argumentos e imprimirlos mostrando en cada uno el argumento y su tamaño."
   ]
  },
  {
   "cell_type": "code",
   "execution_count": null,
   "metadata": {
    "solution2": "hidden",
    "solution2_first": true
   },
   "outputs": [],
   "source": [
    "// definición de Inicio4\n",
    "\n",
    "Inicio4.main(Array(\"uno\", \"2\", \"tres\", \"un argumento muy largo\"))"
   ]
  },
  {
   "cell_type": "code",
   "execution_count": null,
   "metadata": {
    "solution2": "hidden"
   },
   "outputs": [],
   "source": [
    "object Inicio4 extends App {\n",
    "    for (s <- args) {\n",
    "        println(s\"$s: ${s.size}\")\n",
    "    }\n",
    "}\n",
    "\n",
    "Inicio4.main(Array(\"uno\",\"2\",\"tres\",\"un argumento muy largo\"))"
   ]
  },
  {
   "cell_type": "markdown",
   "metadata": {},
   "source": [
    "## Objetos de compañía método `apply`\n",
    "\n",
    "Otra de las características que hemos mencionados de los `object`s además de permitir tener el patrón *Singleton* (objeto único o *Singleton object*) permite facilmente implementar el patrón `factory method` por medio del método `apply` cuando es utilizado en una clase de compañía como se observa a continuación:"
   ]
  },
  {
   "cell_type": "code",
   "execution_count": null,
   "metadata": {},
   "outputs": [],
   "source": [
    "case class Punto2D(x:Double,y:Double)\n",
    "\n",
    "object Punto2D {\n",
    "    def apply(str:String):Punto2D = {\n",
    "        val aStr = str.split(\":\")\n",
    "        Punto2D(aStr(0).trim.toDouble,aStr(1).trim.toDouble)\n",
    "    }\n",
    "}"
   ]
  },
  {
   "cell_type": "markdown",
   "metadata": {},
   "source": [
    "En este caso puedes observar que puedes crear fácilmente instancias de `Punto2D` como se muestra a continuación, puesto que el tipo de dato algebraico recibe valores de tipo doble; pero, suponga que se deben leer los valores de una cadena de carateres ellos separados por el carácter `':'`, es allí donde es conveniente tener un método de fabrica (*Factory method*) que nos permite procesar dicha cadena de carácteres y convertirla en un valor de tipo `Punto2D`. \n",
    "\n",
    "En el siguiente código puedes probar cómo funciona la construcción a través de *Factory Method*."
   ]
  },
  {
   "cell_type": "code",
   "execution_count": null,
   "metadata": {},
   "outputs": [],
   "source": [
    "val p2d1 = Punto2D(10.2,92.2)\n",
    "val p2d2 = Punto2D(\"10.2  :  92.2\")"
   ]
  },
  {
   "cell_type": "markdown",
   "metadata": {},
   "source": [
    "### Ejercicio 3. Iniciar una lista de enteros\n",
    "\n",
    "El siguiente código muestra como definir una lista de enteros utilizando tipos de datos algebraicos. Una de las ventajas de los métodos de fabrica, es que permiten construir lista de tamaño diferentes de forma mucho más sencilla.\n",
    "\n",
    ">> Implemente un método de fabrica que reciba una cadena de carácteres que tiene dos números enteros separados por el símbolo `->`, el primer indica el número de elementos a crear y el segundo el valor inicial en cada una de las posiciones. El primer valor se asume que es un valor entero positivo. "
   ]
  },
  {
   "cell_type": "code",
   "execution_count": null,
   "metadata": {
    "solution2": "hidden",
    "solution2_first": true
   },
   "outputs": [],
   "source": [
    "sealed trait ListaInt\n",
    "case object ListaVacia extends ListaInt\n",
    "case class Cons(i:Int, lst:ListaInt) extends ListaInt\n",
    "\n",
    "object ListaInt {\n",
    "    def apply(str:String):ListaInt = ???\n",
    "}\n",
    "\n",
    "val lst1 = ListaInt(\"10 -> 100\")\n",
    "val lst2 = ListaInt(\"5 -> 1000\")"
   ]
  },
  {
   "cell_type": "code",
   "execution_count": null,
   "metadata": {
    "solution2": "hidden"
   },
   "outputs": [],
   "source": [
    "sealed trait ListaInt\n",
    "case object ListaVacia extends ListaInt\n",
    "case class Cons(i:Int, lst:ListaInt) extends ListaInt\n",
    "\n",
    "object ListaInt {\n",
    "    def apply(str:String):ListaInt = {\n",
    "        def aux(n:Int, v:Int):ListaInt = n match {\n",
    "            case 0 => ListaVacia\n",
    "            case n => Cons(v, aux(n-1,v))\n",
    "        }\n",
    "        val nstr = str.split(\"->\")\n",
    "        aux(nstr(0).trim.toInt,nstr(1).trim.toInt)\n",
    "    }\n",
    "}\n",
    "\n",
    "val lst1 = ListaInt(\"10 -> 100\")\n",
    "val lst2 = ListaInt(\"5 -> 1000\")"
   ]
  },
  {
   "cell_type": "markdown",
   "metadata": {},
   "source": [
    "## Objetos de compañía con métodos y valores\n",
    "\n",
    "Hemos observado que los `object`s pueden ser utilizados como mecánismos para construir objetos únicos (similares a los *Singleton Objects*), métodos de fabrica (*Factory Method*) y puntos de entrada para la ejecución de un programa. Si se observa con detalle este último elemento, no solamente podríamos tener un método con un nombre específico, sino que se puede tener métodos con nombres distintos y valores también.\n",
    "\n",
    "Dado que un `object` (objeto de compañía) se comporta como un módulo es posible hacer que los métodos se comporten como un servicio generalmente asociado al tipo de dato algebraico de la (clase de compañía).\n",
    "\n",
    "En el siguiente código observamos la definición de un tipo de dato algebraico `PilaInt` con su respectivo objeto de compañía donde está el servicio prestado por una pila de enteros. Los servicios son los básicos de la pila son:\n",
    "* Creación, a través del método `apply`.\n",
    "* `empujar`, \n",
    "* `sacar`\n",
    "* `estaVacia`\n"
   ]
  },
  {
   "cell_type": "code",
   "execution_count": null,
   "metadata": {},
   "outputs": [],
   "source": [
    "sealed trait PilaInt\n",
    "case object PilaVacia extends PilaInt\n",
    "case class Tope(tope:Int,pilaRestante:PilaInt) extends PilaInt\n",
    "\n",
    "object PilaInt {\n",
    "    def apply():PilaInt = PilaVacia\n",
    "    def empujar(pila:PilaInt, elem:Int):PilaInt = pila match {\n",
    "        case PilaVacia         => Tope(elem, pila)\n",
    "        case pilap @ Tope(_,_) => Tope(elem, pilap)\n",
    "    }\n",
    "    // Esta función no esta definida completa. No muestra que hacer en el caso de PilaVacia\n",
    "    def sacar(pila:PilaInt):(PilaInt,Int) = pila match {\n",
    "        case Tope(elem,pilap) => (pilap, elem)\n",
    "    }\n",
    "    \n",
    "    def estaVacia(pila:PilaInt):Boolean = pila match {\n",
    "        case PilaVacia => true\n",
    "        case Tope(_,_) => false\n",
    "    }\n",
    "}"
   ]
  },
  {
   "cell_type": "markdown",
   "metadata": {},
   "source": [
    "Esta forma de definición es diametralmente diferente a lo que observas en la programación orientada, donde dentro de una clase se define su servicio a través de su interface, es decir, a través de sus métodos públicos (no se incluyen los atributos públicos puesto que estos violan el principio de encapsulamiento fundamental en la *POO*). En este caso, separamos la definición del tipo de algebraico y su servicio que será implementado a través del objeto de compañía, de esta forma tenemos un punto común para encontrar el servicio implementado por un *TDA*.\n",
    "\n",
    "Teniendo en cuenta que el objeto de compañía se comporta como un módulo, este puede ser importado y tener una iteracción directa con los servicios."
   ]
  },
  {
   "cell_type": "code",
   "execution_count": null,
   "metadata": {},
   "outputs": [],
   "source": [
    "import PilaInt._\n",
    "\n",
    "val pila:PilaInt = PilaInt()\n",
    "\n",
    "val pila2 = empujar(pila,10)\n",
    "\n",
    "val pila3 = empujar(empujar(pila2,14),22)\n",
    "\n",
    "estaVacia(pila3)\n",
    "\n",
    "val (pila4,v1) = sacar(pila3)\n",
    "\n",
    "val (pila5,v2) = sacar(pila4)\n",
    "\n",
    "println(v2)\n",
    "\n",
    "pila5 == pila2\n"
   ]
  },
  {
   "cell_type": "markdown",
   "metadata": {},
   "source": [
    "### Ejercicio 4. La estructura de datos - `ColaInt`\n",
    "\n",
    "En este ejercicio vamos a implementar un tipo de dato similar en su estructura a la `PilaInt` implementada anteriormente, vamos a implementar la `ColaInt`. Aunque ambas empiezan vacías, la inserción se hace poniendo un elemento al final de la cola, mientras que el obtener se obtiene el elemento que se encuentra al frrente. \n",
    "\n",
    ">> Implemente la estructura de datos `ColaInt` que se muestra a continuación"
   ]
  },
  {
   "cell_type": "code",
   "execution_count": null,
   "metadata": {
    "solution2": "hidden",
    "solution2_first": true
   },
   "outputs": [],
   "source": [
    "sealed trait ColaInt\n",
    "case object ColaUltimo extends ColaInt\n",
    "case class Frente(elem:Int, colaInt:ColaInt) extends ColaInt\n",
    "\n",
    "object ColaInt {\n",
    "    def apply():ColaInt = ???\n",
    "    def insertar(colaInt:ColaInt, elem:Int):ColaInt = ???\n",
    "    def estaColaVacia(colaInt:ColaInt):Boolean = ???\n",
    "    def obtenerFrente(colaInt:ColaInt):(ColaInt,Int) = ???\n",
    "    def longitud(colaInt:ColaInt):Int = ???\n",
    "}\n",
    "\n",
    "import ColaInt._\n",
    "\n",
    "val c  = ColaInt()\n",
    "val c2 = insertar(c,10)\n",
    "val c3 = insertar(insertar(c2,22),10)\n",
    "\n",
    "estaColaVacia(c3)\n",
    "println(longitud(c3))\n",
    "\n",
    "val (c4,v1) = obtenerFrente(c3)\n",
    "\n",
    "v1 == 10\n",
    "\n",
    "val (c5,v2) = obtenerFrente(c4)"
   ]
  },
  {
   "cell_type": "code",
   "execution_count": null,
   "metadata": {
    "solution2": "hidden"
   },
   "outputs": [],
   "source": [
    "sealed trait ColaInt\n",
    "case object ColaUltimo extends ColaInt\n",
    "case class Frente(elem:Int, colaInt:ColaInt) extends ColaInt\n",
    "\n",
    "object ColaInt {\n",
    "    def apply():ColaInt = ColaUltimo\n",
    "    def insertar(colaInt:ColaInt, elem:Int):ColaInt = colaInt match {\n",
    "        case c @ ColaUltimo    => Frente(elem, c)\n",
    "        case c @ Frente(e, sc) => c.copy(colaInt = insertar(sc,elem))  \n",
    "    }\n",
    "    def estaColaVacia(colaInt:ColaInt):Boolean = colaInt match {\n",
    "        case ColaUltimo => true\n",
    "        case _          => false\n",
    "    }\n",
    "    def obtenerFrente(colaInt:ColaInt):(ColaInt,Int) = colaInt match {\n",
    "        case Frente(e,sc) => (sc, e)\n",
    "    }\n",
    "    def longitud(colaInt:ColaInt):Int = colaInt match {\n",
    "        case ColaUltimo    => 0\n",
    "        case Frente(_, sc) => 1 + longitud(sc)\n",
    "    }\n",
    "}\n",
    "\n",
    "import ColaInt._\n",
    "\n",
    "val c  = ColaInt()\n",
    "val c2 = insertar(c,10)\n",
    "val c3 = insertar(insertar(c2,22),10)\n",
    "\n",
    "estaColaVacia(c3)\n",
    "println(longitud(c3))\n",
    "\n",
    "val (c4,v1) = obtenerFrente(c3)\n",
    "\n",
    "v1 == 10\n",
    "\n",
    "val (c5,v2) = obtenerFrente(c4)"
   ]
  }
 ],
 "metadata": {
  "kernelspec": {
   "display_name": "Scala",
   "language": "scala",
   "name": "scala"
  },
  "language_info": {
   "codemirror_mode": "text/x-scala",
   "file_extension": ".sc",
   "mimetype": "text/x-scala",
   "name": "scala",
   "nbconvert_exporter": "script",
   "version": "2.13.3"
  }
 },
 "nbformat": 4,
 "nbformat_minor": 4
}
