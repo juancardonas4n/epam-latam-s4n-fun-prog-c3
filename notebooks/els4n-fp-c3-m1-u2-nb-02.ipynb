{
 "cells": [
  {
   "cell_type": "markdown",
   "metadata": {},
   "source": [
    "# Uso de tipos de datos algebraicos genéricos\n",
    "\n",
    "En este notebook tendrás la oportunidad de prácticas mucho más con los tipos de datos algebraicos genéricos\n",
    "\n",
    "## Tipos genéricos\n",
    "\n",
    "Los tipos de datos genéricos no son nuevos, si eres un programador en C++ o aun en Java, has conocido esta asombrosa carácteristica en dichos lenguajes de programación. La idea es que los tipos de datos también pueden tener variables y en Scala dichar variables se identificarán con letras mayúsculas: `A`, `B`, $\\ldots$ y podría ser cualquier nombre en mayúsculas: `ABC`, `IAZ`y así. \n",
    "\n",
    "Esas variables de tipos significan en un momento determinado cualquier tipo: definido, por definir, etc. Simplemente significa cualquier tipo y puede ser muy útiles cuando queremos significar que una función o un tipo de trabajo pueden trabajar contener o estar asociados con cualquier tipo de dato.\n",
    "\n",
    "Miraremos los diferentes ejemplos en funciones y en tipos, y al final introduciremos un tema de soslayo (casi lo evitaremos).\n",
    "\n",
    "### Tipos genéricos en funciones\n",
    "\n",
    "Muchas funciones pueden trabajar con cualquier tipo. Por ejemplo la famosa función de `id` que recibe una valor de cualquier tipo y retorna el mismo valor (luce uno poco inútil, pero en realidad cuando entremos en temas más profundos veremos que tiene mucha utilidad.\n",
    "\n",
    "```scala\n",
    "def id[A](un:A):A = un\n",
    "```\n",
    "\n",
    "La anterior función nos dice que estamos recibiendo un valor de cualquier tipo, y que va a retornar dicho valor nuevamente.\n",
    "\n",
    "Mira ahora otra implementación de la función de `swap` para tuplas binárias:\n",
    "\n",
    "```scala\n",
    "def swap[A,B](tpl:(A,B)):(B,A) = (tpl._2, tpl._1)\n",
    "```\n",
    "\n",
    "Recuerda que aquí `A` y `B` son cualquier tipo, pero no son de tipo `Any`. Por ejemplo una vez que se invoca la función `swap`, esta asocia `A` y `B` con los correspondiente tipos: \n",
    "\n",
    "```scala\n",
    "swap((true,10))\n",
    "```\n",
    "\n",
    "En la anterior invocación, `A` es asociado al tipo `Boolean` y `B` es asociado al tipo `Int`.\n",
    "\n",
    "### Tipo genéricos en tipos de datos\n",
    "\n",
    "Vamos a definir un tipo de dato algebraico que puede contener cualquier tipo de valor, utilizando para ello la construcción por tipo producto:\n",
    "\n",
    "```scala\n",
    "sealed trait Tupla\n",
    "final case class Tupla2[A,B](p:A,s:B) extends Tupla\n",
    "```\n",
    "\n",
    "En este caso, el constructor de valores de `Tuple2` para el tipo `Tupla` permite tener cualquier tipo de valor en cada una de sus dos posiciones. Como en siguiente ejemplo:\n",
    "\n",
    "```scala\n",
    "val tpl = Tupla2(true,2.0)\n",
    "```\n",
    "\n",
    "Este se encarga de construir una tupla `Tupla2[Boolean,Double]`. Los valores de `A` y `B` pueden ser de cualquier tipo y no necesariamente diferente.\n",
    "\n",
    "```scala\n",
    "val tpl2 = Tupla2(1,2)\n",
    "```\n",
    "\n",
    "### Variante, Covariante e invariantes\n",
    "\n",
    "Cuando se trabaja con variables de tipos y en particular con la jerarquía de clases que un sistema orientado a objetos como Scala, la pregunta que debes estar haciéndote es que pasa con dicha jerarquía. Para hacerlo muy simple (*puesto que más adelante hablaremos con más detalle de estos temas*), si una Clase `X` tiene subclases a `Y` y `Z`, si tenemos algo genérico `G[A]` que pasa con la relación anteriormente descrita, pues bueno, Scala tiene los término *variante* para indica que si creo una clase de `G[X]`, la relación de subclases se mantedrá con `G[Y]` y `G[Z]` definiendo a `G[+A]`, donde el `+` indica que la relación se mantendrá (*variante*). Si la relación se mantiene `G[A]` es *invariante*, no importa relación alguna. Y, si el valor es `G[-A]` este  indica que el orden de la relación se cambia, si `X` es una superclase de `Y` y `Z`, con `G[-X]` la relación se invierte y esta se convierte en una subclase de `G[Y]` y como también de `G[Z]`, esta se llama *covariante*. \n",
    "\n",
    "Te sonará confuso por el momento, pero nosotros te indicaremos cuando debes hacer de una o de la otra. \n",
    "\n",
    "## Ejercicios \n",
    "\n",
    "### Ejercicio 1. Tipo identidad.\n",
    "\n",
    "En este ejercicio, haremos un tipo algebraico genérico que permita guarda cualquier valor, y lo llamaremos tipo `ID`, que permite guardar cualquier tipo. Este tipo tendrá un "
   ]
  },
  {
   "cell_type": "code",
   "execution_count": null,
   "metadata": {},
   "outputs": [],
   "source": []
  },
  {
   "cell_type": "code",
   "execution_count": 10,
   "metadata": {},
   "outputs": [
    {
     "data": {
      "text/plain": [
       "defined \u001b[32mtrait\u001b[39m \u001b[36mID\u001b[39m\n",
       "defined \u001b[32mclass\u001b[39m \u001b[36mIDE\u001b[39m\n",
       "defined \u001b[32mfunction\u001b[39m \u001b[36mgetValue\u001b[39m\n",
       "\u001b[36mun1\u001b[39m: \u001b[32mIDE\u001b[39m[\u001b[32mInt\u001b[39m] = \u001b[33mIDE\u001b[39m(\u001b[32m10\u001b[39m)\n",
       "\u001b[36mun2\u001b[39m: \u001b[32mIDE\u001b[39m[\u001b[32mDouble\u001b[39m] = \u001b[33mIDE\u001b[39m(\u001b[32m20.23\u001b[39m)\n",
       "\u001b[36mres9_5\u001b[39m: \u001b[32mInt\u001b[39m = \u001b[32m10\u001b[39m\n",
       "\u001b[36mres9_6\u001b[39m: \u001b[32mDouble\u001b[39m = \u001b[32m20.23\u001b[39m"
      ]
     },
     "execution_count": 10,
     "metadata": {},
     "output_type": "execute_result"
    }
   ],
   "source": [
    "sealed trait ID[+A]\n",
    "final case class IDE[+A](value:A) extends ID[A]\n",
    "\n",
    "\n",
    "def getValue[A](id:ID[A]):A = id match {\n",
    "    case IDE(a) => a\n",
    "}\n",
    "\n",
    "val un1:IDE[Int] = IDE(10)\n",
    "val un2:IDE[Double] = IDE(20.23)\n",
    "\n",
    "getValue(un1)\n",
    "getValue(un2)"
   ]
  },
  {
   "cell_type": "markdown",
   "metadata": {},
   "source": [
    "## Ejercicio 2. Tipo resultado general\n",
    "\n",
    "Un tipo de dato algebraico muy útil es el expresa una computación que puede fallar, esto se hace interesante dentro de la programación funcional puesto que te permite obviar (*evitar*) el manejo de excepciones (**que son una forma de efecto colateral que debemos evitar**). En la mayoría de los lenguajes funcionales existen dicho tipo, y vamos a implementarlo. De hecho, ya hicimos una versión que permitía tener un valor entero y no tener ninguno, en este caso vamos a generalizar dicho versión."
   ]
  },
  {
   "cell_type": "code",
   "execution_count": 7,
   "metadata": {},
   "outputs": [
    {
     "data": {
      "text/plain": [
       "defined \u001b[32mtrait\u001b[39m \u001b[36mResultado\u001b[39m\n",
       "defined \u001b[32mclass\u001b[39m \u001b[36mAlguna\u001b[39m\n",
       "defined \u001b[32mobject\u001b[39m \u001b[36mNinguna\u001b[39m\n",
       "defined \u001b[32mfunction\u001b[39m \u001b[36mdividir\u001b[39m\n",
       "\u001b[36mres6_4\u001b[39m: \u001b[32mResultado\u001b[39m[\u001b[32mInt\u001b[39m] = Ninguna\n",
       "\u001b[36mres6_5\u001b[39m: \u001b[32mResultado\u001b[39m[\u001b[32mInt\u001b[39m] = \u001b[33mAlguna\u001b[39m(\u001b[32m5\u001b[39m)"
      ]
     },
     "execution_count": 7,
     "metadata": {},
     "output_type": "execute_result"
    }
   ],
   "source": [
    "sealed trait Resultado[+A]\n",
    "final case class Alguna[+A](valor:A) extends Resultado[A]\n",
    "final case object Ninguna  extends Resultado[Nothing]\n",
    "\n",
    "def dividir(a:Int,b:Int):Resultado[Int] = b match {\n",
    "    case 0 => Ninguna\n",
    "    case n => Alguna(a / n)\n",
    "}\n",
    "\n",
    "dividir(10,0)\n",
    "dividir(11,2)\n"
   ]
  },
  {
   "cell_type": "markdown",
   "metadata": {},
   "source": [
    "## Ejercicio 3. Cualquiera\n",
    "\n"
   ]
  },
  {
   "cell_type": "code",
   "execution_count": 9,
   "metadata": {},
   "outputs": [
    {
     "data": {
      "text/plain": [
       "defined \u001b[32mtrait\u001b[39m \u001b[36mCualquiera\u001b[39m\n",
       "defined \u001b[32mclass\u001b[39m \u001b[36mIzquierda\u001b[39m\n",
       "defined \u001b[32mclass\u001b[39m \u001b[36mDerecha\u001b[39m"
      ]
     },
     "execution_count": 9,
     "metadata": {},
     "output_type": "execute_result"
    }
   ],
   "source": [
    "sealed trait Cualquiera[+A,+B]\n",
    "\n",
    "final case class Izquierda[A](izq:A) extends Cualquiera[A,Nothing]\n",
    "final case class Derecha[B](der:B) extends Cualquiera[Nothing,B]"
   ]
  },
  {
   "cell_type": "markdown",
   "metadata": {},
   "source": [
    "## Ejercicio 4. "
   ]
  }
 ],
 "metadata": {
  "kernelspec": {
   "display_name": "Scala",
   "language": "scala",
   "name": "scala"
  },
  "language_info": {
   "codemirror_mode": "text/x-scala",
   "file_extension": ".sc",
   "mimetype": "text/x-scala",
   "name": "scala",
   "nbconvert_exporter": "script",
   "version": "2.13.3"
  }
 },
 "nbformat": 4,
 "nbformat_minor": 4
}
