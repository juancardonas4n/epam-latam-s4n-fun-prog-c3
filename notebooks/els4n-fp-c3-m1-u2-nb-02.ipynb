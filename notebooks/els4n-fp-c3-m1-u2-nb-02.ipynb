{
 "cells": [
  {
   "cell_type": "markdown",
   "metadata": {},
   "source": [
    "# Uso de tipos de datos algebraicos genéricos\n",
    "\n",
    "En este notebook tendrás la oportunidad de prácticas mucho más con los tipos de datos algebraicos genéricos\n",
    "\n",
    "## Tipos genéricos\n",
    "\n",
    "Los tipos de datos genéricos no son nuevos, si eres un programador en C++ o aun en Java, has conocido esta asombrosa característica en dichos lenguajes de programación. La idea es que los tipos de datos también pueden tener variables asociadas y en Scala dichas variables se identificarán con letras mayúsculas: `A`, `B`, $\\ldots$, y podría ser cualquier nombre en mayúsculas: `ABC`, `IAZ` y así. \n",
    "\n",
    "Esas variables de tipos significan, que en un momento determinado cualquier tipo: definido, por definir, etc. Simplemente significa cualquier tipo y puede ser muy útiles cuando queremos significar que una función o un tipo de trabajo pueden trabajar contener o estar asociados con cualquier tipo de dato.\n",
    "\n",
    "Miraremos los diferentes ejemplos en funciones y en tipos, y al final introduciremos un tema de soslayo (casi lo evitaremos).\n",
    "\n",
    "### Tipos genéricos en funciones\n",
    "\n",
    "Muchas funciones pueden trabajar con cualquier tipo. Por ejemplo la famosa función de `id` que recibe una valor de cualquier tipo y retorna el mismo valor (luce uno poco inútil, pero en realidad cuando entremos en temas más profundos veremos que tiene mucha utilidad.\n",
    "\n",
    "```scala\n",
    "def id[A](un:A):A = un\n",
    "```\n",
    "\n",
    "La anterior función nos dice que estamos recibiendo un valor de cualquier tipo, y que va a retornar dicho valor nuevamente.\n",
    "\n",
    "Mira ahora otra implementación de la función de `swap` para tuplas binárias:\n",
    "\n",
    "```scala\n",
    "def swap[A,B](tpl:(A,B)):(B,A) = (tpl._2, tpl._1)\n",
    "```\n",
    "\n",
    "Recuerda que aquí `A` y `B` son cualquier tipo, pero no son de tipo `Any`. Por ejemplo una vez que se invoca la función `swap`, esta asocia `A` y `B` con los correspondiente tipos: \n",
    "\n",
    "```scala\n",
    "swap((true,10)) == (10,true)\n",
    "```\n",
    "\n",
    "En la anterior invocación, `A` es asociado al tipo `Boolean` y `B` es asociado al tipo `Int`.\n",
    "\n",
    "### Tipo genéricos en tipos de datos\n",
    "\n",
    "Vamos a definir un tipo de dato algebraico que puede contener cualquier tipo de valor, utilizando para ello la construcción por tipo producto:\n",
    "\n",
    "```scala\n",
    "sealed trait Tupla\n",
    "final case class Tupla2[A,B](p:A,s:B) extends Tupla\n",
    "```\n",
    "\n",
    "En este caso, el constructor de valores de `Tuple2` para el tipo `Tupla` permite tener cualquier tipo de valor en cada una de sus dos posiciones. Como en siguiente ejemplo:\n",
    "\n",
    "```scala\n",
    "val tpl = Tupla2(true,2.0)\n",
    "```\n",
    "\n",
    "Este se encarga de construir una tupla `Tupla2[Boolean,Double]`. Los valores de `A` y `B` pueden ser de cualquier tipo y no necesariamente diferente.\n",
    "\n",
    "```scala\n",
    "val tpl2 = Tupla2(1,2)\n",
    "```\n",
    "\n",
    "### Variante, Covariante e invariantes\n",
    "\n",
    "Cuando se trabaja con variables de tipos y en particular con la jerarquía de clases que un sistema orientado a objetos como Scala, la pregunta que debes estar haciéndote es que pasa con dicha jerarquía. Para hacerlo muy simple (*puesto que más adelante hablaremos con más detalle de estos temas*), si una Clase `X` tiene subclases a `Y` y `Z`, si tenemos algo genérico `G[A]` que pasa con la relación anteriormente descrita, pues bueno, Scala tiene los término *variante* para indica que si creo una clase de `G[X]`, la relación de subclases se mantedrá con `G[Y]` y `G[Z]` definiendo a `G[+A]`, donde el `+` indica que la relación se mantendrá (*variante*). Si la relación se mantiene como `G[A]` esta es llamada *invariante*, no importa relación alguna. Y, si el valor es `G[-A]` este  indica que el orden de la relación se cambia, si `X` es una superclase de `Y` y `Z`, con `G[-X]` la relación se invierte y esta se convierte en una subclase de `G[Y]` y como también de `G[Z]`, esta se llama *covariante*. \n",
    "\n",
    "Te sonará confuso por el momento, pero nosotros te indicaremos cuando debes hacer de una o de la otra.\n",
    "\n",
    "Otro detalle a tener en cuenta, es que los tipos de datos definidos como `case object` generalmente cuando los tipos son definidos como *variante* se debe tener en encuenta que son los valores bases por lo tanto deben ser definidos como un tipo específico llamado `Nothing`. `Nothing` es un subtipo que pertenece a todos los tipos, es decir que todos los tipos tiene este tipo incluido que es subtipo de todos.\n",
    "\n",
    "## Ejercicios \n",
    "\n",
    "### Ejercicio 1. Tipo identidad.\n",
    "\n",
    "En este ejercicio, implementarás un tipo algebraico genérico que permita guarda cualquier valor su tipo será `ID` y un constructor de valor llamado `IdE` que te permitirá recibir valores de cualquier tipo. \n",
    "\n",
    ">> Implemente el tipo `ID` y su constructor de valor llamado `IdE` e implemente la función `getValue`. \n",
    "\n",
    "**Nota** Este tipo es variante."
   ]
  },
  {
   "cell_type": "code",
   "execution_count": null,
   "metadata": {
    "solution2": "hidden",
    "solution2_first": true
   },
   "outputs": [],
   "source": [
    "// definir tipo ID\n",
    "// definir constructor de valores de tipo \n",
    "\n",
    "def getValue[A](id:ID[A]):A = ???\n",
    "\n",
    "val un1:ID[Int] = IdE(10)\n",
    "val un2:ID[Double] = IdE(20.23)\n",
    "val un3:ID[Boolean] = IdE(true)\n",
    "\n",
    "getValue(un1) == 10\n",
    "getValue(un2) == 20.23\n",
    "getValue(un3) == true"
   ]
  },
  {
   "cell_type": "code",
   "execution_count": null,
   "metadata": {
    "solution2": "hidden"
   },
   "outputs": [],
   "source": [
    "sealed trait ID[+A]\n",
    "final case class IdE[+A](value:A) extends ID[A]\n",
    "\n",
    "def getValue[A](id:ID[A]):A = id match {\n",
    "    case IdE(a) => a\n",
    "}\n",
    "\n",
    "val un1:ID[Int]     = IdE(10)\n",
    "val un2:ID[Double]  = IdE(20.23)\n",
    "val un3:ID[Boolean] = IdE(true)\n",
    "\n",
    "getValue(un1) == 10\n",
    "getValue(un2) == 20.23\n",
    "getValue(un3) == true"
   ]
  },
  {
   "cell_type": "markdown",
   "metadata": {},
   "source": [
    "### Ejercicio 2. Tipo resultado general\n",
    "\n",
    "Un tipo de dato algebraico muy útil es el expresa una computación que puede fallar, esto se hace interesante dentro de la programación funcional puesto que te permite obviar (*evitar*) el manejo de excepciones (**que son una forma de efecto colateral que debemos evitar**). En la mayoría de los lenguajes funcionales existen dicho tipo, y vamos a implementarlo. De hecho, ya hicimos una versión que permitía tener un valor entero y no tener ninguno, en este caso vamos a generalizar dicho versión.\n",
    "\n",
    ">> Implementa el tipo `Resultado` y sus dos contructores de valores: `Algun` que recibe un valor de cualquier tipo y `Ningun` que no almacena ningún valor.\n",
    "\n",
    "**Nota:** Este tipo es variante y ningún extiene `Resultado[Nothing]`."
   ]
  },
  {
   "cell_type": "code",
   "execution_count": null,
   "metadata": {
    "solution2": "hidden",
    "solution2_first": true
   },
   "outputs": [],
   "source": [
    "// definir el tipo Resultado\n",
    "// definir el constructor de valor Algun que recibe un valor\n",
    "// definir el constructor de valor Ningu que no recibe valores\n",
    "\n",
    "def dividir(a:Int,b:Int):Resultado[Int] = ???\n",
    "\n",
    "dividir(10,0) == Ningun\n",
    "dividir(12,2) == Algun(6)\n",
    "dividir(0,0)  == Ningun"
   ]
  },
  {
   "cell_type": "code",
   "execution_count": null,
   "metadata": {
    "solution2": "hidden"
   },
   "outputs": [],
   "source": [
    "sealed trait Resultado[+A]\n",
    "final case class Algun[+A](valor:A) extends Resultado[A]\n",
    "final case object Ningun  extends Resultado[Nothing]\n",
    "\n",
    "def dividir(a:Int,b:Int):Resultado[Int] = b match {\n",
    "    case 0 => Ningun\n",
    "    case n => Algun(a / n)\n",
    "}\n",
    "\n",
    "dividir(10,0) == Ningun\n",
    "dividir(12,2) == Algun(6)\n",
    "dividir(0,0)  == Ningun"
   ]
  },
  {
   "cell_type": "markdown",
   "metadata": {},
   "source": [
    "### Ejercicio 3.  Un par de valores\n",
    "\n",
    "En este ejercicio te encargarás de crear un versión de tupla, pero la diferencia es que esta versión los valores son del mismo tipo.\n",
    "\n",
    ">> Crear un tipo llamado `Par` que recibe valores de cualquier tipo y su correspondiente constructor de valor llamado `UnPar` que se encarga de guardar dos valores del mismo tipo. Implemente tambien la función `swap` que recibe un valor de tipo `Par` y crea un nuevo valor con los valores intercambiados.\n",
    "\n",
    "**Nota:** Este tipo es variante."
   ]
  },
  {
   "cell_type": "code",
   "execution_count": null,
   "metadata": {
    "solution2": "hidden",
    "solution2_first": true
   },
   "outputs": [],
   "source": [
    "// definir el Tipo Par\n",
    "// final case class UnPar[+A](p:A, s:A) extends Par[A]\n",
    "\n",
    "def swap[A](par:Par[A]):Par[A] = ???\n",
    "\n",
    "val unPar1:Par[Int] = UnPar(1,2)\n",
    "val unPar2:Par[Int] = UnPar(2,1)\n",
    "val unPar3:Par[Double] = UnPar(2.3,3.4)\n",
    "val unPar4:Par[Double] = UnPar(3.4,2.3)\n",
    "\n",
    "swap(unPar1) == unPar2\n",
    "swap(unPar3) == unPar4"
   ]
  },
  {
   "cell_type": "code",
   "execution_count": null,
   "metadata": {
    "solution2": "hidden"
   },
   "outputs": [],
   "source": [
    "sealed trait Par[+A]\n",
    "final case class UnPar[+A](p:A, s:A) extends Par[A]\n",
    "\n",
    "def swap[A](par:Par[A]):Par[A] = par match {\n",
    "    case UnPar(p,s) => UnPar(s,p)\n",
    "}\n",
    "\n",
    "val unPar1:Par[Int] = UnPar(1,2)\n",
    "val unPar2:Par[Int] = UnPar(2,1)\n",
    "val unPar3:Par[Double] = UnPar(2.3,3.4)\n",
    "val unPar4:Par[Double] = UnPar(3.4,2.3)\n",
    "\n",
    "swap(unPar1) == unPar2\n",
    "swap(unPar3) == unPar4"
   ]
  }
 ],
 "metadata": {
  "kernelspec": {
   "display_name": "Scala",
   "language": "scala",
   "name": "scala"
  },
  "language_info": {
   "codemirror_mode": "text/x-scala",
   "file_extension": ".sc",
   "mimetype": "text/x-scala",
   "name": "scala",
   "nbconvert_exporter": "script",
   "version": "2.13.3"
  }
 },
 "nbformat": 4,
 "nbformat_minor": 4
}
