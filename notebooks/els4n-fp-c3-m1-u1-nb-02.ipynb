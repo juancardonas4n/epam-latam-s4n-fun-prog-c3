{
 "cells": [
  {
   "cell_type": "markdown",
   "metadata": {},
   "source": [
    "#  Ejemplos de tuplas y coincidencia de patrones\n",
    "\n",
    "## Ejercicio 1. Implementación de la función `nand`\n",
    "\n",
    "Una tupla binaria de valores boleanos (`Boolean`) permite hasta 16 funciones posibles.\n",
    "\n",
    "Implementarás una función que es base de los registros electrónicos de los computadores, la función `nand`. La siguiente es la tabla de verdad de dicha función.\n",
    "\n",
    "|a|b|Nand|\n",
    "|-|-|----|\n",
    "|F|F|  T |\n",
    "|F|T|  T |\n",
    "|F|F|  T |\n",
    "|T|T|  F |\n",
    "\n",
    "> Implementa la función `nand` que recibe un tipo `(Boolean,Boolean)` y produce un valor de tipo `Boolean`, **utilizando para ello coincidencia de patrones**:\n"
   ]
  },
  {
   "cell_type": "code",
   "execution_count": null,
   "metadata": {
    "solution2": "hidden",
    "solution2_first": true
   },
   "outputs": [],
   "source": [
    "def nand(b:(Boolean,Boolean)):Boolean = ???\n",
    "\n",
    "nand((true,false)) == true\n",
    "nand((false,true)) == true\n",
    "nand((true,true)) == false"
   ]
  },
  {
   "cell_type": "code",
   "execution_count": null,
   "metadata": {
    "solution2": "hidden"
   },
   "outputs": [],
   "source": [
    "def nand(b:(Boolean,Boolean)):Boolean = b match {\n",
    "    case (true,true) => false\n",
    "    case _           => true\n",
    "}\n",
    "\n",
    "nand((true,false)) == true\n",
    "nand((false,true)) == true\n",
    "nand((true,true)) == false"
   ]
  },
  {
   "cell_type": "markdown",
   "metadata": {},
   "source": [
    "## Ejercicio 2.  Implementación de una función `nor` ternaria\n",
    "\n",
    "La definición de la función *binaria* `nor` se muestra en la siguiente tabla de verdad:\n",
    "\n",
    "|a|b|Nor|\n",
    "|-|-|---|\n",
    "|F|F| T |\n",
    "|F|T| F |\n",
    "|T|F| F |\n",
    "|T|T| F |\n",
    "\n",
    "> Implementa la versión ternaria `nor3` que recibe un valor de tipo `(Boolean, Boolean, Boolean)` que se observa en la siguiente celda."
   ]
  },
  {
   "cell_type": "code",
   "execution_count": null,
   "metadata": {
    "solution2": "hidden",
    "solution2_first": true
   },
   "outputs": [],
   "source": [
    "def nor3(b:(Boolean,Boolean,Boolean)):Boolean = ???\n",
    "\n",
    "nor3((true,false,false)) == false\n",
    "nor3((false,true,true)) == false\n",
    "nor3((false,false,false)) == true"
   ]
  },
  {
   "cell_type": "code",
   "execution_count": null,
   "metadata": {
    "solution2": "hidden"
   },
   "outputs": [],
   "source": [
    "def nor3(b:(Boolean,Boolean,Boolean)):Boolean = b match {\n",
    "    case (false,false,false) => true\n",
    "    case _                   => false\n",
    "}\n",
    "\n",
    "nor3((true,false,false)) == false\n",
    "nor3((false,true,true)) == false\n",
    "nor3((false,false,false)) == true"
   ]
  },
  {
   "cell_type": "markdown",
   "metadata": {},
   "source": [
    "## Ejercicio 3. Eliminar diferentes\n",
    "\n",
    "Una de las particularidades de las tuplas, sin importar el tipo que ella contiene, son operaciones que estas heredan y que te permiten realizar operaciones que haces normalmente en los tipos escalares como `Int` ó `Double`, que son las funciones de comparación: igualdad y diferencia. Puedes comparar tuplas si estas tienen el mismo tipo, utilizando para ello los conocidos operadores: `==` y `!=`. \n",
    "\n",
    "En este ejercicio:\n",
    "\n",
    "> implementarás una función `obt2Dif` que recibe tres tuplas de tipo `(String,Int,Double)` (con un alias `Tp3`).\n",
    "\n",
    "La función obtiene dos valores diferentes de las tuplas de entrada (de ser posible), en caso que todas sean iguales o completamente diferentes se obtiene las dos primeras tuplas."
   ]
  },
  {
   "cell_type": "code",
   "execution_count": null,
   "metadata": {
    "solution2": "hidden",
    "solution2_first": true
   },
   "outputs": [],
   "source": [
    "type Tp3 = (String,Int,Double)\n",
    "type Tp2_3 = (Tp3,Tp3)\n",
    "\n",
    "def obt2Dif(u:Tp3,d:Tp3,t:Tp3):Tp2_3 = ???"
   ]
  },
  {
   "cell_type": "code",
   "execution_count": null,
   "metadata": {
    "solution2": "hidden"
   },
   "outputs": [],
   "source": [
    "type Tp3 = (String,Int,Double)\n",
    "type Tp2_3 = (Tp3,Tp3)\n",
    "\n",
    "def obtExtr(u:Tp3,d:Tp3,t:Tp3):Tp2_3 =  if (u == d) (u,t)\n",
    "                                        else if (d == t) (u,t)\n",
    "                                        else if (u == t) (u,d)\n",
    "                                        else (u,d)\n",
    "\n"
   ]
  },
  {
   "cell_type": "markdown",
   "metadata": {},
   "source": [
    "## Ejercicio 4. Estructuras complejas en tuplas. Profundidad de un árbol binario\n",
    "\n",
    "Los lenguajes de programación modernos, como Scala, tienen sistema de tipos muy fuertes y flexibles que permite manejar estructuras complejas. En este ejercicio, vas hacer uso de ese sistema de tipos con un tipo especial llamado `Any`. El tipo `Any`cómo su nombre lo indica permite almacenar cualquier tipo de dato, que puede ser un `Int`, `Char`, un objeto de cualquier clase, una función o una tupla de cualquier tipo. Con ese tipo, aprovecharás para representar un árbol binario heterogéneo (de tipos diferentes) y lo utilizarás como parámetro de la función `profundidad`. Que funciona de la siguiente forma:\n",
    "\n",
    "$$\n",
    "profundidad(Tipo) = \\begin{cases}\n",
    "(ArbolBinario_l,ArbolBinario_r) & 1 + max(profundidad(ArbolBinario_l),profundidad(ArbolBinario_r)) \\\\\n",
    "(ArbolBinario_l,OtroTipo) & 1 + profundidad(ArbolBinario_l) \\\\\n",
    "(OtroTipo,ArbolBinario_r) & 1 + profundidad(ArbolBinario_r) \\\\\n",
    "ArbolBinario & 1 \\\\\n",
    "OtroTipo & 0 \\\\\n",
    "\\end{cases}\n",
    "$$\n",
    "\n",
    "Donde $Tipo$ puede ser un $ArbolBinario$ es decir una *tupla binaria* y $OtroTipo$ cualquier otro tipo diferente a *tupla binaria*.\n",
    "\n",
    "> Implementa la función `profundidad` de forma tal implemente las reglas anteriores.\n",
    "\n",
    "> > **Advertencia**: La utilización del tipo `Any` es una mala práctica y debe ser eliminada del código profesional, pero en este caso estamos ante un ejercicio que tienes propósitos académicos y lo utilizaremos con el propósito de facilitar el ejercicio."
   ]
  },
  {
   "cell_type": "code",
   "execution_count": null,
   "metadata": {
    "solution2": "hidden",
    "solution2_first": true
   },
   "outputs": [],
   "source": [
    "def profundidad(arbol:Any):Int = ???\n",
    "\n",
    "profundidad(10) == 0\n",
    "profundidad((1,2)) == 1\n",
    "profundidad(((1,2),3)) == 2\n",
    "profundidad((1,(2,3))) == 2\n",
    "profundidad((((1,2),3),(4,5))) == 3"
   ]
  },
  {
   "cell_type": "code",
   "execution_count": null,
   "metadata": {
    "solution2": "hidden"
   },
   "outputs": [],
   "source": [
    "def profundidad(arbol:Any):Int = arbol match {\n",
    "    case (l @ (_,_), r @ (_,_)) => 1 + math.max(profundidad(l), profundidad(r))\n",
    "    case (l @ (_,_), _) => 1 + profundidad(l)\n",
    "    case (_, r @ (_,_)) => 1 + profundidad(r)\n",
    "    case (_,_) => 1\n",
    "    case _     => 0\n",
    "}\n",
    "\n",
    "profundidad(10) == 0\n",
    "profundidad((1,2)) == 1\n",
    "profundidad(((1,2),3)) == 2\n",
    "profundidad((1,(2,3))) == 2\n",
    "profundidad((((1,2),3),(4,5))) == 3"
   ]
  }
 ],
 "metadata": {
  "kernelspec": {
   "display_name": "Scala",
   "language": "scala",
   "name": "scala"
  },
  "language_info": {
   "codemirror_mode": "text/x-scala",
   "file_extension": ".sc",
   "mimetype": "text/x-scala",
   "name": "scala",
   "nbconvert_exporter": "script",
   "version": "2.13.3"
  }
 },
 "nbformat": 4,
 "nbformat_minor": 4
}
