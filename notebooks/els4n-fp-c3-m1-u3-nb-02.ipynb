{
 "cells": [
  {
   "cell_type": "markdown",
   "metadata": {},
   "source": [
    "# Uso y definición de tipos de datos algebraicos recursivos\n",
    "\n",
    "En este *notebook* tendrás oportunidad de usar los tipos de datos algebraicos ya aprendidos y también practicarás definiendo nuevos tipos de datos algebraicos. También podrás practicar algunos conceptos vistos anteriormente, cómo recursividad, definir funciones de forma anónima, etc. ¡Comencemos!\n",
    "\n",
    "## Definiciones previas\n",
    "\n",
    "Recordemos las definiciones de tipos de datos algebraicos recursivas, como las lista de enteros `ListaInt` y árbol binario de enteros `ArbolBinInt`"
   ]
  },
  {
   "cell_type": "code",
   "execution_count": null,
   "metadata": {},
   "outputs": [],
   "source": [
    "sealed trait ListaInt\n",
    "\n",
    "final case object VaciaInt extends ListaInt\n",
    "final case class ConsInt(n:Int, lst:ListaInt) extends ListaInt\n",
    "\n",
    "sealed trait ArbolBinInt\n",
    "\n",
    "final case class Hoja(n:Int) extends ArbolBinInt\n",
    "final case class BinInt(i:ArbolBinInt, d:ArbolBinInt) extends ArbolBinInt\n",
    "\n",
    "val lst1 = VaciaInt\n",
    "val lst2 = ConsInt(1,VaciaInt)\n",
    "val lst3 = ConsInt(2, ConsInt(3, VaciaInt))\n",
    "val lst4 = ConsInt(4,ConsInt(5,ConsInt(6,VaciaInt)))\n",
    "val lst5 = ConsInt(4,ConsInt(5,ConsInt(6,ConsInt(7,VaciaInt))))\n",
    "// val arb1 = BinInt(BinInt(Hoja(1),Hoja(2)), BinInt(BinInt(Hoja(3),Hoja(4)),BinInt()))"
   ]
  },
  {
   "cell_type": "markdown",
   "metadata": {},
   "source": [
    "## Ejercicios.\n",
    "\n",
    "### Ejercicio 1. Concatenar dos listas de enteros\n",
    "\n",
    "La idea es tomar dos listas de enteros y producir una nueva lista, como se muestra en la siguiente iteracción a través del REPL\n",
    "\n",
    "```scala\n",
    "scala> concatListaInt(lst2,lst3)\n",
    "concatListaInt(lst2,lst3)\n",
    "val res0: ListaInt = ConsInt(1,ConsInt(2,ConsInt(3,VaciaInt)))\n",
    "\n",
    "```\n",
    "\n",
    ">> Implemente la función `concatListaInt`"
   ]
  },
  {
   "cell_type": "code",
   "execution_count": null,
   "metadata": {
    "solution2": "hidden",
    "solution2_first": true
   },
   "outputs": [],
   "source": [
    "def concatListaInt(lst1: ListaInt, lst2: ListaInt):ListaInt = ???"
   ]
  },
  {
   "cell_type": "code",
   "execution_count": null,
   "metadata": {
    "solution2": "hidden"
   },
   "outputs": [],
   "source": [
    "def concatListaInt(lst1: ListaInt, lst2: ListaInt):ListaInt = (lst1: @unchecked) match {\n",
    "  case VaciaInt => lst2\n",
    "  case ConsInt(n, lst) => ConsInt(n, concatListaInt(lst, lst2))\n",
    "}\n"
   ]
  },
  {
   "cell_type": "markdown",
   "metadata": {},
   "source": [
    "### Ejercicio 2. Funciones de transformación de listas\n",
    "\n",
    "En este ejercicio vamos a implementar varias funciones, en la que vamos a observar varios elementos.\n",
    "\n",
    ">> Implementar la función `doblarListaInt`, esta función recibe una lista de enteros y retorna una nueva lista con cada valor aumentado en el doble\n",
    ">> Implementar la función `sumarAListaInt`, esta función recibe una lista de enteros y un valor entero, y este es sumado a cada uno de los elementos de la lista.\n",
    ">> Implementar la función `multAListaInt`, esta función recibe una lista de enteros y un valor entero, y este es multiplicado a cada uno de los elementos de la lista."
   ]
  },
  {
   "cell_type": "code",
   "execution_count": null,
   "metadata": {
    "solution2": "hidden",
    "solution2_first": true
   },
   "outputs": [],
   "source": [
    "def doblarListaInt(lst:ListaInt):ListaInt = ???\n",
    "\n",
    "def sumarAListaInt(lst:ListaInt,valor:Int):ListaInt = ???\n",
    "\n",
    "def multAListaInt(lst:ListaInt,valor:Int):ListaInt = ???\n",
    "\n",
    "doblarListaInt(lst3)   == ConsInt(4,ConsInt(6,VaciaInt))\n",
    "sumarAListaInt(lst3,4) == ConsInt(6,ConsInt(7,VaciaInt))\n",
    "multAListaInt(lst3,10) == ConsInt(20,ConsInt(30,VaciaInt))"
   ]
  },
  {
   "cell_type": "code",
   "execution_count": null,
   "metadata": {
    "solution2": "hidden"
   },
   "outputs": [],
   "source": [
    "def doblarListaInt(lst:ListaInt):ListaInt = lst match {\n",
    "    case VaciaInt     => VaciaInt\n",
    "    case ConsInt(n,l) => ConsInt(n*2, doblarListaInt(l))\n",
    "}\n",
    "\n",
    "def sumarAListaInt(lst:ListaInt,valor:Int):ListaInt = lst match {\n",
    "    case VaciaInt     => VaciaInt\n",
    "    case ConsInt(n,l) => ConsInt(n+valor, sumarAListaInt(l,valor))\n",
    "}\n",
    "\n",
    "def multAListaInt(lst:ListaInt,valor:Int):ListaInt = lst match {\n",
    "    case VaciaInt     => VaciaInt\n",
    "    case ConsInt(n,l) => ConsInt(n*valor, multAListaInt(l,valor))\n",
    "}\n",
    "\n",
    "doblarListaInt(lst3)   == ConsInt(4,ConsInt(6,VaciaInt))\n",
    "sumarAListaInt(lst3,4) == ConsInt(6,ConsInt(7,VaciaInt))\n",
    "multAListaInt(lst3,10) == ConsInt(20,ConsInt(30,VaciaInt))"
   ]
  },
  {
   "cell_type": "markdown",
   "metadata": {},
   "source": [
    "### Ejercicio 3. Generalizar las funciones de transformación de lista\n",
    "\n",
    "Observa nuevamente la soluciones propuestas en tu ejercicio anterior. ¿No observas un patrón común en ellas?\n",
    "\n",
    "Una vez reconocido dicho patrńo, te preguntarás: ¿se podría evitar dichar repetición en tu código y programar menos? \n",
    "\n",
    "Pues bien, vamos a intentar un acercamiento a evitar escribir tanto código, recordando que las funciones pueden ser pasadas como argumentos a las funciones. Para ellos plantearemos la construcción que llamaremos `mapearListaInt`. Un mapa en matemáticas se refiere a una función de transformación de un tipo a otro tipo y vamos a observar en primer lugar la firma de la función en cuestión:\n",
    "\n",
    "```scala\n",
    "def mapearListaInt(lst:ListaInt, f:Int => Int):ListaInt = ???\n",
    "```\n",
    "\n",
    "Esta función recorrera la lista (`lst`) aplicando a cada elemento de la lista la función `f` y obteniendo la nueva función.\n",
    "\n",
    ">> Implemente la función `mapearListaInt`\n",
    ">> Una vez implemtada la anterior función implemente dicha función las funciones de:\n",
    ">> * `doblarListaInt2` que es una versión del ejercicio anterior de `doblarListaInt` que utiliza `mapearListaInt`.\n",
    ">> * `sumarListaInt2` que es una versión del ejercicio anterior de `sumarAListaInt` que utiliza `mapearListaInt`.\n",
    ">> * `multAListaInt2` que es una versión del ejercicio anterior de `multAListaInt` que utiliza `mapearListaInt`."
   ]
  },
  {
   "cell_type": "code",
   "execution_count": null,
   "metadata": {
    "solution2": "hidden",
    "solution2_first": true
   },
   "outputs": [],
   "source": [
    "def mapearListaInt(lst:ListaInt, f:Int => Int):ListaInt = ???\n",
    "\n",
    "def doblarListaInt2(lst:ListaInt)            = ???\n",
    "def sumarAListaInt2(lst:ListaInt, valor:Int) = ???\n",
    "def multAListaInt2(lst:ListaInt, valor:Int)  = ???\n",
    "\n",
    "doblarListaInt(lst3)   == doblarListaInt2(lst3)\n",
    "sumarAListaInt(lst3,4) == sumarAListaInt2(lst3,4)\n",
    "multAListaInt(lst3,10) == multAListaInt2(lst3,10)"
   ]
  },
  {
   "cell_type": "code",
   "execution_count": null,
   "metadata": {
    "solution2": "hidden"
   },
   "outputs": [],
   "source": [
    "def mapearListaInt(lst:ListaInt, f:Int => Int):ListaInt = lst match {\n",
    "    case VaciaInt     => VaciaInt\n",
    "    case ConsInt(n,l) => ConsInt(f(n), mapearListaInt(l,f))\n",
    "}\n",
    "\n",
    "def doblarListaInt2(lst:ListaInt) = mapearListaInt(lst,_*2)\n",
    "def sumarAListaInt2(lst:ListaInt, valor:Int) = mapearListaInt(lst,_+valor)\n",
    "def multAListaInt2(lst:ListaInt, valor:Int) = mapearListaInt(lst,_*valor)\n",
    "\n",
    "doblarListaInt(lst3)   == doblarListaInt2(lst3)\n",
    "sumarAListaInt(lst3,4) == sumarAListaInt2(lst3,4)\n",
    "multAListaInt(lst3,10) == multAListaInt2(lst3,10)"
   ]
  },
  {
   "cell_type": "markdown",
   "metadata": {},
   "source": [
    "### Ejercicio 4. Otra forma de definir expresiones aritméticas\n",
    "\n",
    "Las expresiones aritméticas: $+$, $-$, $\\times$, $/$, son tipos de datos recursivos. Si lo piensas un momento te encontrarás que es así. En el caso más simple (*base*) son valores de tipo:`Double` o son variables representadas por cadenas de carácteres (`String`). Cada uno de los operadores aritméticos, están compuestos del operador, más dos expresiones: una a la derecha y otra a la izquierda.\n",
    "\n",
    ">> Defina el tipo de dato algebraico recursivo `Expr` que representa a todas la expresiones aritméticas básicas: $+$, $-$, $\\times$, $/$, y con dos valores base: un valor doble y una variable.\n",
    "\n",
    ">> Con el anterior tipo construya las siguientes expresiones: $3.0 + 4.0 * 5.0$ y $(3.0 + 4.0) * 5.0$.\n",
    "\n",
    ">> Construya la función `evaluar` que recibe una expresión y retorna su valor. En los casos de existan variable este valor será siempre $0$.\n",
    "\n",
    "**Pistas:**\n",
    "1. Observe la definición hecha en el vídeo anterior sobre el tipo de dato árbol\n",
    "2. Observe que la definición de expresión es también un árbol.\n",
    "3. Para construir las expresiones se crea un árbol donde los niveles inferiores se evalúan primero que los niveles superiores, esto para construir la expresión.\n",
    "4. Aunque la expresión tenga paréntesis, observe el númeral anterior."
   ]
  },
  {
   "cell_type": "code",
   "execution_count": null,
   "metadata": {
    "solution2": "hidden",
    "solution2_first": true
   },
   "outputs": [],
   "source": [
    "// Definir el tipo de dato algebraico para expresion\n",
    "sealed trait Expr\n",
    "\n",
    "// definición para Valor\n",
    "// definición para Variable\n",
    "// definición para Suma\n",
    "// definición para Resta\n",
    "// definición para Multiplicación\n",
    "// definición para División\n",
    "\n",
    "// expr1: 3 + 4 * 5\n",
    "val expr1 = ???\n",
    "// expr2: (3 + 4) * 5\n",
    "val expr2 = ???\n",
    "\n",
    "def evaluar(expr:Expr):Double = ???\n",
    "\n",
    "evaluar(expr1) == 23.0\n",
    "evaluar(expr2) == 35.0"
   ]
  },
  {
   "cell_type": "code",
   "execution_count": null,
   "metadata": {
    "solution2": "hidden"
   },
   "outputs": [],
   "source": [
    "sealed trait Expr\n",
    "\n",
    "final case class Val(v:Double) extends Expr\n",
    "final case class Var(v:String) extends Expr\n",
    "final case class Suma(i:Expr,d:Expr) extends Expr\n",
    "final case class Resta(i:Expr,d:Expr) extends Expr\n",
    "final case class Mult(i:Expr,d:Expr) extends Expr\n",
    "final case class Div(i:Expr,d:Expr) extends Expr\n",
    "\n",
    "// expr1: 3 + 4 * 5\n",
    "val expr1 = Suma(Val(3), Mult(Val(4),Val(5)))\n",
    "// expr2: (3 + 4) * 5\n",
    "val expr2 = Mult(Suma(Val(3),Val(4)),Val(5))\n",
    "\n",
    "def evaluar(expr:Expr):Double = expr match {\n",
    "    case Val(v)     => v\n",
    "    case Var(_)     => 0.0\n",
    "    case Suma(i,d)  => evaluar(i) + evaluar(d)\n",
    "    case Resta(i,d) => evaluar(i) - evaluar(d)\n",
    "    case Mult(i,d)  => evaluar(i) * evaluar(d)\n",
    "    case Div(i,d)   => evaluar(i) / evaluar(d)\n",
    "}\n",
    "\n",
    "evaluar(expr1) == 23.0\n",
    "evaluar(expr2) == 35.0"
   ]
  }
 ],
 "metadata": {
  "kernelspec": {
   "display_name": "Scala",
   "language": "scala",
   "name": "scala"
  },
  "language_info": {
   "codemirror_mode": "text/x-scala",
   "file_extension": ".sc",
   "mimetype": "text/x-scala",
   "name": "scala",
   "nbconvert_exporter": "script",
   "version": "2.13.3"
  }
 },
 "nbformat": 4,
 "nbformat_minor": 4
}
