{
 "cells": [
  {
   "cell_type": "markdown",
   "metadata": {},
   "source": [
    "# Manejo y transformación de tuplas\n",
    "\n",
    "## Ejercicio 1. Invertir tuplas\n",
    "\n",
    "> Implemente la función `invertir` que toma una tupla de tipo `(Int,Double,Char,String)` y invierte los valores y la deja en una tupla de tipo `(String, Char, Double, Int)`."
   ]
  },
  {
   "cell_type": "code",
   "execution_count": null,
   "metadata": {
    "solution2": "hidden",
    "solution2_first": true
   },
   "outputs": [],
   "source": [
    "def invertir(tpl:(Int,Double,Char,String)):(String,Char,Double,Int) = ???\n",
    "\n",
    "\n",
    "invertir((1,2.0,'a',\"Hola\")) == (\"Hola\",'a',2.0,1)"
   ]
  },
  {
   "cell_type": "code",
   "execution_count": null,
   "metadata": {
    "solution2": "hidden"
   },
   "outputs": [],
   "source": [
    "def invertir(tpl:(Int,Double,Char,String)):(String,Char,Double,Int) = tpl match {\n",
    "    case (a,b,c,d) => (d,c,b,a)\n",
    "}\n",
    "\n",
    "invertir((1,2.0,'a',\"Hola\")) == (\"Hola\",'a',2.0,1)"
   ]
  },
  {
   "cell_type": "markdown",
   "metadata": {},
   "source": [
    "## Ejercicio 2.  Invertir elementos centrales\n",
    "\n",
    "> Implemente la función `invertir centrales` que toma una tupla de tipo `(Int,Double,Char,String,Double)` y la transforma inviertiendo el tipo `Double` por `String` y viceversa."
   ]
  },
  {
   "cell_type": "code",
   "execution_count": null,
   "metadata": {
    "solution2": "hidden",
    "solution2_first": true
   },
   "outputs": [],
   "source": [
    "def invC(tpl:(Int,Double,Char,String,Boolean)):(Int,String,Char,Double,Boolean) = ???"
   ]
  },
  {
   "cell_type": "code",
   "execution_count": null,
   "metadata": {
    "solution2": "hidden"
   },
   "outputs": [],
   "source": [
    "def invC(tpl:(Int,Double,Char,String,Boolean)):(Int,String,Char,Double,Boolean) = tpl.copy(_2=tpl._4,_4=tpl._2)\n",
    "\n",
    "invC((1,2.0,'a',\"Hola\",true)) == (1,\"Hola\",'a',2.0,true)"
   ]
  },
  {
   "cell_type": "markdown",
   "metadata": {},
   "source": [
    "## Ejercicio 3. Apoyar la diferencia\n",
    "\n",
    "Observe la siguiente declaración de alias:\n",
    "\n",
    "```scala\n",
    "type T2I  = (Int,Int)\n",
    "type Reg  = (String, T2I, T2I)\n",
    "type Reg2 = (String, T2I) \n",
    "```\n",
    "Vamos implementar una función llamada `dejarDif` que tiene la siguiente firma:\n",
    "\n",
    "```scala\n",
    "def dejarDif(reg:Reg,tpl:T2I):Reg2\n",
    "```\n",
    "\n",
    "La idea básica de esta función es crear una nueva tupla solamente con el primer campo de `reg` y la tupla diferente de tipo alias `T2I`, en caso de no existir diferencia alguna se deja la `tpl` que compara, si toda son diferentes se deja la  primera diferente.\n",
    "\n",
    "> Implemente la función `dejaDif`"
   ]
  },
  {
   "cell_type": "code",
   "execution_count": null,
   "metadata": {
    "solution2": "hidden",
    "solution2_first": true
   },
   "outputs": [],
   "source": [
    "type T2I = (Int,Int)\n",
    "type Reg = (String, T2I, T2I)\n",
    "\n",
    "def dejarDif(reg:Reg, tpl:T2I):Reg = ???\n",
    "\n",
    "dejarDif((\"Uno\", (1,2),(2,2)), (3,2)) == (\"Uno\", (3,2), (3,2))\n",
    "dejarDif((\"Dos\", (1,2),(2,2)), (1,2)) == (\"Dos\", (2,2), (2,2))\n",
    "dejarDif((\"Tres\", (1,2),(2,2)), (2,2)) == (\"Tres\", (1,2),(1,2))\n",
    "dejarDif((\"Cuatro\", (1,2),(1,2)), (1,2)) == (\"Cuatro\", (1,2),(1,2))"
   ]
  },
  {
   "cell_type": "code",
   "execution_count": null,
   "metadata": {
    "solution2": "hidden"
   },
   "outputs": [],
   "source": [
    "type T2I = (Int,Int)\n",
    "type Reg = (String, T2I, T2I)\n",
    "\n",
    "def dejarDif(reg:Reg, tpl:T2I):Reg = reg match {\n",
    "    case(_,a,b) if a == tpl && b != tpl => reg.copy(_2 = b)\n",
    "    case(_,a,b) if a != tpl && b == tpl => reg.copy(_3 = a)\n",
    "    case(_,a,b) if a != tpl && b != tpl => reg.copy(_2 = tpl, _3 = tpl)\n",
    "    case _                  => reg.copy()\n",
    "}\n",
    "\n",
    "dejarDif((\"Uno\", (1,2),(2,2)), (3,2)) == (\"Uno\", (3,2), (3,2))\n",
    "dejarDif((\"Dos\", (1,2),(2,2)), (1,2)) == (\"Dos\", (2,2), (2,2))\n",
    "dejarDif((\"Tres\", (1,2),(2,2)), (2,2)) == (\"Tres\", (1,2), (1,2))\n",
    "dejarDif((\"Cuatro\", (1,2),(1,2)), (1,2)) == (\"Cuatro\", (1,2),(1,2))"
   ]
  },
  {
   "cell_type": "markdown",
   "metadata": {},
   "source": [
    "## Ejercicio 4. Tuplas como registros\n",
    "\n",
    "Puedes utilizar las tuplas almacenar información relacionada. Por ejemplo:\n",
    "\n",
    "```{.scala}\n",
    "type Notas = (Double,Double,Double)\n",
    "type Estudiante = (String,Notas,Double)\n",
    "```\n",
    "\n",
    "Observamos la definición de dos alias: `Notas` que representa las tres notas que un estudiante tiene durante el semestre. `Estudiante` que guarda la información sobre el estudiante: nombre, sus notas y la nota promedio.}\n",
    "\n",
    "Como sabes las tuplas no pueden ser actualizadas directamente, pero vamos a implementar una función, que se llama registrar nota, que indica con un numero 1 al 3, el número de nota que se quiere actualizar y la nueva nota a actualizar. La función `actualizarNota` tiene la siguiente firma:\n",
    "\n",
    "```{.scala}\n",
    "def actualizarNota(est:Estudiante,nroNota:Int,nuevaNota:Double):Estudiante\n",
    "```\n",
    "\n",
    "Esta función recibe la información de un estudiante (`est`), el número de nota que se quiere modificar (`nroNota`), y el valor de la nueva nota. Debe devolver un nueva \"version\" del Estudiante con la nota nueva y su nuevo promedio.\n",
    "\n",
    ">> No hay necesidad de hacer verificaciones exhaustivas, las notas están en el rango de 0.0 a 5.0, el número de la nota a modificar esta entre 1 y 3. El promedio es un promedido simple con las tres notas.\n",
    "\n",
    "> Implementa la función `actualizarNotas`"
   ]
  },
  {
   "cell_type": "code",
   "execution_count": null,
   "metadata": {
    "solution2": "hidden",
    "solution2_first": true
   },
   "outputs": [],
   "source": [
    "type Notas = (Double,Double,Double)\n",
    "type Estudiante = (String,Notas,Double)\n",
    "\n",
    "def actualizarNotas(est:Estudiante,nroNota:Int,nuevaNota:Double):Estudiante = ???\n",
    "\n",
    "val unEst = (\"Un estudiante\", (0.0,0.0,0.0), 0.0)\n",
    "\n",
    "val nuevoUnEst = actualizarNotas(unEst,1,1.0)\n",
    "\n",
    "val nuevo2UnEst = actualizarNotas(nuevoUnEst,2,2.0)\n",
    "\n",
    "val nuevo3UnEst = actualizarNotas(nuevo2UnEst,3,3.0)\n",
    "\n",
    "nuevo3UnEst._3 == 2.0"
   ]
  },
  {
   "cell_type": "code",
   "execution_count": null,
   "metadata": {
    "solution2": "hidden"
   },
   "outputs": [],
   "source": [
    "type Notas = (Double,Double,Double)\n",
    "type Estudiante = (String,Notas,Double)\n",
    "\n",
    "def actualizarNotas(est:Estudiante,nroNota:Int,nuevaNota:Double):Estudiante = {\n",
    "  def cambiarNota(notas:Notas):Notas = nroNota match {\n",
    "    case 1 => notas.copy(_1 = nuevaNota)\n",
    "    case 2 => notas.copy(_2 = nuevaNota)\n",
    "    case 3 => notas.copy(_3 = nuevaNota)\n",
    "  }\n",
    "  def promNotas(n:Notas):Double = {\n",
    "    (n._1 + n._2 + n._3) / 3 \n",
    "  }\n",
    "  val nuevaNotas = cambiarNota(est._2)\n",
    "  est.copy(_2 = nuevaNotas, _3 = promNotas(nuevaNotas))\n",
    "}\n",
    "\n",
    "val unEst = (\"Un estudiante\", (0.0,0.0,0.0), 0.0)\n",
    "val nuevoUnEst = actualizarNotas(unEst,1,1.0)\n",
    "val nuevo2UnEst = actualizarNotas(nuevoUnEst,2,2.0)\n",
    "val nuevo3UnEst = actualizarNotas(nuevo2UnEst,3,3.0)\n",
    "\n",
    "nuevo3UnEst._3 == 2.0"
   ]
  }
 ],
 "metadata": {
  "kernelspec": {
   "display_name": "Scala",
   "language": "scala",
   "name": "scala"
  },
  "language_info": {
   "codemirror_mode": "text/x-scala",
   "file_extension": ".sc",
   "mimetype": "text/x-scala",
   "name": "scala",
   "nbconvert_exporter": "script",
   "version": "2.13.3"
  }
 },
 "nbformat": 4,
 "nbformat_minor": 4
}
