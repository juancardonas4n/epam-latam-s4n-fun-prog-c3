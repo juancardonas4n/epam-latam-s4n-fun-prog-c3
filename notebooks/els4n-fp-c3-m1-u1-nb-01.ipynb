{
 "cells": [
  {
   "cell_type": "markdown",
   "metadata": {},
   "source": [
    "# Tuplas definición y uso\n",
    "\n",
    "En este *notebook* aplicarás los conocimientos aprendidos sobre tuplas con diferentes ejercicios que te permitirán entender la simpleza y funcionalidad de dicho tipo de dato. ¡Comencemos!\n",
    "\n",
    "## Ejercicio 1. Creación básica de tuplas\n",
    "\n",
    "Puedes crear una tupla a partir de una función que recibe varios parametros `n` y obtendremos una tupla de aridad `n`.\n",
    "\n",
    "> Implementa las siguientes funciones donde puedes recibir valores de diferente tipos y obtener la tupla correspondiente.\n",
    "\n",
    "> > **Advertencia**: La utilización del tipo `Any` es una mala práctica y debe ser eliminada del código profesional, pero en este caso estamos ante un ejercicio que tienes propósitos académicos y lo utilizaremos con el propósito de facilitar el ejercicio."
   ]
  },
  {
   "cell_type": "code",
   "execution_count": null,
   "metadata": {
    "solution2": "hidden",
    "solution2_first": true
   },
   "outputs": [],
   "source": [
    "def tupla2(a:Any, b:Any) = ???\n",
    "def tupla3(a:Any, b:Any, c:Any) = ???\n",
    "def tupla4(a:Any, b:Any, c:Any, d:Any) = ???\n",
    "\n",
    "val tp2 = tupla2(12,\"Hola\")\n",
    "val tp3 = tupla3(2.23, true, 'a')\n",
    "val tp4 = tupla4(tp2,tp3,(tp2,tp3),(1,(tp2,tp3)))"
   ]
  },
  {
   "cell_type": "code",
   "execution_count": null,
   "metadata": {
    "solution2": "hidden"
   },
   "outputs": [],
   "source": [
    "def tupla2(a:Any, b:Any) = (a,b)\n",
    "def tupla3(a:Any, b:Any, c:Any) = (a,b,c)\n",
    "def tupla4(a:Any, b:Any, c:Any, d:Any) = (a,b,c,d)\n",
    "\n",
    "val tp2 = tupla2(12,\"Hola\")\n",
    "val tp3 = tupla3(2.23, true, 'a')\n",
    "val tp4 = tupla4(tp2,tp3,(tp2,tp3),(1,(tp2,tp3)))"
   ]
  },
  {
   "cell_type": "markdown",
   "metadata": {},
   "source": [
    "## Ejercicio 2. Creación básica de tuplas con `TupleX`\n",
    "\n",
    "En este ejercicio repetiras la experiencia anterior, pero con una forma diferente de instanciar tuplas.\n",
    "\n",
    "> Implementa las siguientes funciones, pero utilizando para ello el correspondiente `trait` `TupleX`. (Recuerda que el `X` es la aridad que va de 1 hasta 22).\n",
    "\n",
    "> > **Advertencia**: La utilización del tipo `Any` es una mala práctica y debe ser eliminada del código profesional, pero en este caso estamos ante un ejercicio que tienes propósitos académicos y lo utilizaremos con el propósito de facilitar el ejercicio."
   ]
  },
  {
   "cell_type": "code",
   "execution_count": null,
   "metadata": {
    "solution2": "hidden",
    "solution2_first": true
   },
   "outputs": [],
   "source": [
    "def tuplax2(a:Any, b:Any) = ???\n",
    "def tuplax3(a:Any, b:Any, c:Any) = ???\n",
    "def tuplax4(a:Any, b:Any, c:Any, d:Any) = ???\n",
    "\n",
    "val tpx2 = tuplax2(12, \"Hola\")\n",
    "val tpx3 = tuplax3(2.23, true, 'a')\n",
    "val tpx4 = tuplax4(tpx2,tpx3,(tpx2,tpx3),(1,(tpx2,tpx3)))\n",
    "\n",
    "println(tp2 == tpx2)\n",
    "println(tp3 == tpx3)\n",
    "println(tp4 == tpx4)"
   ]
  },
  {
   "cell_type": "code",
   "execution_count": null,
   "metadata": {
    "solution2": "hidden"
   },
   "outputs": [],
   "source": [
    "def tuplax2(a:Any, b:Any) = new Tuple2(a,b)\n",
    "def tuplax3(a:Any, b:Any, c:Any) = new Tuple3(a,b,c)\n",
    "def tuplax4(a:Any, b:Any, c:Any, d:Any) = new Tuple4(a,b,c,d)\n",
    "\n",
    "val tpx2 = tuplax2(12, \"Hola\")\n",
    "val tpx3 = tuplax3(2.23, true, 'a')\n",
    "val tpx4 = tuplax4(tpx2,tpx3,(tpx2,tpx3),(1,(tpx2,tpx3)))\n",
    "\n",
    "println(tp2 == tpx2)\n",
    "println(tp3 == tpx3)\n",
    "println(tp4 == tpx4)"
   ]
  },
  {
   "cell_type": "markdown",
   "metadata": {},
   "source": [
    "## Ejercicio 3. Uso de tuplas\n",
    "\n",
    "La función `aplicarTuplas` recibes tres tuplas: `tp1`, `tp2` y `tp3`. Las dos primeras tuplas son binarias del mismo tipo `(Int, String)`. La tercera tupla tiene el siguiente tipo: `((Int,Int) => Int, (String,String) => String)`.\n",
    "\n",
    "> Implementa la función `aplicarTuplas` de forma que cada par de valores enteros y a cada par de valores de tipo `String` les aplique la función correspondiente."
   ]
  },
  {
   "cell_type": "code",
   "execution_count": null,
   "metadata": {
    "solution2": "hidden",
    "solution2_first": true
   },
   "outputs": [],
   "source": [
    "val aplicarTuplas = ???\n",
    "\n",
    "aplicarTuplas((1,\"Hola\"), (2,\", mundo\"), (_+_, _+_)) == (3,\"Hola, mundo\")\n",
    "aplicarTuplas((2,\"c\"), (3,\"d\"), (_*_, (x,y) => y + x)) == (6, \"dc\")"
   ]
  },
  {
   "cell_type": "code",
   "execution_count": null,
   "metadata": {
    "solution2": "hidden"
   },
   "outputs": [],
   "source": [
    "val aplicarTuplas = (a:(Int,String),b:(Int,String),c:((Int,Int) => Int,(String, String) => String)) => (c._1(a._1, b._1),c._2(a._2, b._2)) \n",
    "\n",
    "aplicarTuplas((1,\"Hola\"), (2,\", mundo\"), (_+_, _+_)) == (3, \"Hola, mundo\")\n",
    "aplicarTuplas((2,\"c\"), (3,\"d\"), (_*_, (x,y) => y + x)) == (6, \"dc\")"
   ]
  },
  {
   "cell_type": "markdown",
   "metadata": {},
   "source": [
    "## Ejercicio 4. Uso de tuplas con `Tuple`\n",
    "\n",
    "Observa la definición de los dos alias de tipos `T4Mangle` y `T4`. El primero es un tipo que contiene varias tuplas anidadas con 4 campos en total. El segundo es un tipo _normalizado_ que 4 valores enteros. \n",
    "\n",
    "> Implementa la función `unMangle` que recibe un valor de tipo `T4Mangle` y lo \"_normaliza_\" al tipo `T4`."
   ]
  },
  {
   "cell_type": "code",
   "execution_count": null,
   "metadata": {
    "solution2": "hidden",
    "solution2_first": true
   },
   "outputs": [],
   "source": [
    "type T4Mangle = (((Int,Int),Int),Int)\n",
    "type T4       = Tuple4[Int,Int,Int,Int]\n",
    "\n",
    "def unMangle(tpl:T4Mangle):T4 = ???\n",
    "\n",
    "unMangle((((1,2),3),4)) == (1,2,3,4)\n",
    "unMangle((((11,10),9),8)) == (11,10,9,8)"
   ]
  },
  {
   "cell_type": "code",
   "execution_count": null,
   "metadata": {
    "solution2": "hidden"
   },
   "outputs": [],
   "source": [
    "type T4Mangle = (((Int,Int),Int),Int)\n",
    "type T4       = Tuple4[Int,Int,Int,Int]\n",
    "\n",
    "def unMangle(tpl:T4Mangle):T4 = (tpl._1._1._1, tpl._1._1._2, tpl._1._2, tpl._2) \n",
    "\n",
    "\n",
    "unMangle((((1,2),3),4)) == (1,2,3,4)\n",
    "unMangle((((11,10),9),8)) == (11,10,9,8)"
   ]
  }
 ],
 "metadata": {
  "kernelspec": {
   "display_name": "Scala",
   "language": "scala",
   "name": "scala"
  },
  "language_info": {
   "codemirror_mode": "text/x-scala",
   "file_extension": ".sc",
   "mimetype": "text/x-scala",
   "name": "scala",
   "nbconvert_exporter": "script",
   "version": "2.13.3"
  }
 },
 "nbformat": 4,
 "nbformat_minor": 4
}
