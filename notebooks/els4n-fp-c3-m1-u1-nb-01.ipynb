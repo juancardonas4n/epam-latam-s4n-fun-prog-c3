{
 "cells": [
  {
   "cell_type": "markdown",
   "metadata": {},
   "source": [
    "# Tuplas\n",
    "\n",
    "En este *notebook* aplicarás los conocimientos aprendidos sobre tuplas con diferentes ejercicios que te permitirán entender la simpleza y funcionalidad de dicho tipo de dato. ¡Comencemos!\n",
    "\n",
    "## Ejercicio 1. Creación básica de tuplas\n",
    "\n",
    "Podemos crear un tupla a partir de una función que recibe varios parametros `n` y obtendremos una tupla de aridad `n`.\n",
    "\n",
    "> Implemente las siguientes funciones donde se puede recibir valores de diferente tipos y obtener la tupla correspondiente."
   ]
  },
  {
   "cell_type": "code",
   "execution_count": null,
   "metadata": {
    "solution2": "hidden",
    "solution2_first": true
   },
   "outputs": [],
   "source": [
    "def tupla2(a:Any, b:Any) = ???\n",
    "def tupla3(a:Any, b:Any, c:Any) = ???\n",
    "def tupla4(a:Any, b:Any, c:Any, d:Any) = ???\n",
    "\n",
    "val tp2 = tupla2(12,\"Hola\")\n",
    "val tp3 = tupla3(2.23, true, 'a')\n",
    "val tp4 = tupla4(tp2,tp3,(tp2,tp3),(1,(tp2,tp3)))"
   ]
  },
  {
   "cell_type": "code",
   "execution_count": null,
   "metadata": {
    "solution2": "hidden"
   },
   "outputs": [],
   "source": [
    "def tupla2(a:Any, b:Any) = (a,b)\n",
    "def tupla3(a:Any, b:Any, c:Any) = (a,b,c)\n",
    "def tupla4(a:Any, b:Any, c:Any, d:Any) = (a,b,c,d)\n",
    "\n",
    "val tp2 = tupla2(12,\"Hola\")\n",
    "val tp3 = tupla3(2.23, true, 'a')\n",
    "val tp4 = tupla4(tp2,tp3,(tp2,tp3),(1,(tp2,tp3)))"
   ]
  },
  {
   "cell_type": "markdown",
   "metadata": {},
   "source": [
    "## Ejercicio 2. Creación básica de tuplas con `TupleX`\n",
    "\n",
    "En el siguiente ejercicio vamos a repetir la experiencia anterior, pero en este caso utilizando la construcción de tuplas a partir de objetos tipo `TupleX`"
   ]
  },
  {
   "cell_type": "code",
   "execution_count": null,
   "metadata": {
    "solution2": "hidden",
    "solution2_first": true
   },
   "outputs": [],
   "source": [
    "def tuplax2(a:Any, b:Any) = ???\n",
    "def tuplax3(a:Any, b:Any, c:Any) = ???\n",
    "def tuplax4(a:Any, b:Any, c:Any, d:Any) = ???\n",
    "\n",
    "val tpx2 = tuplax2(12, \"Hola\")\n",
    "val tpx3 = tuplax3(2.23, true, 'a')\n",
    "val tpx4 = tuplax4(tpx2,tpx3,(tpx2,tpx3),(1,(tpx2,tpx3)))\n",
    "\n",
    "println(tp2 == tpx2)\n",
    "println(tp3 == tpx3)\n",
    "println(tp4 == tpx4)"
   ]
  },
  {
   "cell_type": "code",
   "execution_count": null,
   "metadata": {
    "solution2": "hidden"
   },
   "outputs": [],
   "source": [
    "def tuplax2(a:Any, b:Any) = new Tuple2(a,b)\n",
    "def tuplax3(a:Any, b:Any, c:Any) = new Tuple3(a,b,c)\n",
    "def tuplax4(a:Any, b:Any, c:Any, d:Any) = new Tuple4(a,b,c,d)\n",
    "\n",
    "val tpx2 = tuplax2(12, \"Hola\")\n",
    "val tpx3 = tuplax3(2.23, true, 'a')\n",
    "val tpx4 = tuplax4(tpx2,tpx3,(tpx2,tpx3),(1,(tpx2,tpx3)))\n",
    "\n",
    "println(tp2 == tpx2)\n",
    "println(tp3 == tpx3)\n",
    "println(tp4 == tpx4)"
   ]
  },
  {
   "cell_type": "code",
   "execution_count": null,
   "metadata": {},
   "outputs": [],
   "source": []
  }
 ],
 "metadata": {
  "kernelspec": {
   "display_name": "Scala",
   "language": "scala",
   "name": "scala"
  },
  "language_info": {
   "codemirror_mode": "text/x-scala",
   "file_extension": ".sc",
   "mimetype": "text/x-scala",
   "name": "scala",
   "nbconvert_exporter": "script",
   "version": "2.13.3"
  }
 },
 "nbformat": 4,
 "nbformat_minor": 4
}
